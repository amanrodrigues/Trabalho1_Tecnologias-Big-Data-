{
 "cells": [
  {
   "cell_type": "markdown",
   "metadata": {},
   "source": [
    "# <center><b>Instituto Federal de Educação, Ciência e Tecnologia</b></center>\n",
    "#### <center><font color='green'>Câmpus Câmpinas</font></center>\n",
    "####  <center></center>"
   ]
  },
  {
   "cell_type": "markdown",
   "metadata": {},
   "source": [
    "<b><font color=\"red\" size=5> Alunas: </font></b>\n",
    "<h3><li>Amanda Rodrigues da Silva - CP3013634</li></h3>\n",
    "<h3><li>Natalia Rodrigues da Silva - CP3013651</li></h3>"
   ]
  },
  {
   "cell_type": "markdown",
   "metadata": {},
   "source": [
    "<b><font size=6 color='blue'>Introdução</font></b>"
   ]
  },
  {
   "cell_type": "markdown",
   "metadata": {},
   "source": [
    "Este é um conjunto de dados dos Jogos Olímpicos que descreve medalhas e atletas para Tóquio 2020. Os dados foram criados a partir dos Jogos Olímpicos de Tóquio .\n",
    "\n",
    "Mais de 2.400 medalhas e 11.000 atletas (com alguns dados pessoais: data e local de nascimento, altura, etc.) dos XXXII Jogos Olímpicos você pode encontrar aqui. Além disso, estão presentes treinadores e responsáveis ​​técnicos.\n",
    "\n",
    "Dados:\n",
    "\n",
    "medals_total.csv- conjunto de dados que contém todas as medalhas agrupadas por país.\n",
    "\n",
    "medals.csv - conjunto de dados que inclui informações gerais sobre todos os atletas que ganharam uma medalha.\n",
    "\n",
    "athletes.csv - conjunto de dados que inclui algumas informações pessoais de todos os atletas.\n",
    "\n",
    "coaches.csv - o conjunto de dados que inclui algumas informações pessoais de todos os treinadores.\n",
    "\n",
    "technical_officials - o conjunto de dados que inclui algumas informações pessoais de todos os funcionários técnicos.\n",
    "\n",
    "Fonte: https://www.kaggle.com/piterfm/tokyo-2020-olympics"
   ]
  },
  {
   "cell_type": "markdown",
   "metadata": {},
   "source": [
    "O relacionamento entre as tabelas se dá conforme imagem abaixo:"
   ]
  },
  {
   "cell_type": "markdown",
   "metadata": {},
   "source": [
    "![](database.jpeg)"
   ]
  },
  {
   "cell_type": "markdown",
   "metadata": {},
   "source": [
    "<b><font size=6 color='blue'>Conexão com a instância AWS e criação do database</font></b>"
   ]
  },
  {
   "cell_type": "code",
   "execution_count": 255,
   "metadata": {},
   "outputs": [],
   "source": [
    "import os\n",
    "import numpy as np\n",
    "import pandas as pd\n",
    "import matplotlib.pyplot as plt\n",
    "import seaborn as sns"
   ]
  },
  {
   "cell_type": "code",
   "execution_count": 2,
   "metadata": {},
   "outputs": [],
   "source": [
    "#!pip install imdb-sqlite\n",
    "#import sqlite3"
   ]
  },
  {
   "cell_type": "code",
   "execution_count": 3,
   "metadata": {},
   "outputs": [],
   "source": [
    "x = {}\n",
    "for dirname, _, filenames in os.walk('/home/amanda/Documentos/Trabalho1_TBD/DatabaseOlympic'):\n",
    "    for filename in filenames:\n",
    "        x[filename.split ('.')[0]+'_df'] = os.path.join(dirname, filename)"
   ]
  },
  {
   "cell_type": "code",
   "execution_count": 4,
   "metadata": {},
   "outputs": [
    {
     "name": "stdout",
     "output_type": "stream",
     "text": [
      "medals_total_df\n",
      "coaches_df\n",
      "technical_officials_df\n",
      "athletes_df\n",
      "medals_df\n"
     ]
    }
   ],
   "source": [
    "for i in x.keys():\n",
    "    print(i)\n",
    "    locals()[i] = pd.read_csv(x[i])\n",
    "    locals()[i].columns = [w.replace('/', '_') for w in locals()[i].columns]\n",
    "    locals()[i].columns = [w.replace(' ', '_') for w in locals()[i].columns]\n",
    "    locals()[i].columns = [w.lower() for w in locals()[i].columns]"
   ]
  },
  {
   "cell_type": "code",
   "execution_count": 5,
   "metadata": {},
   "outputs": [],
   "source": [
    "#db instance : databasetrabalho1\n",
    "#username: natalia\n",
    "#pass: \n",
    "#host: databasetrabalho1.ctwhhho2wipa.sa-east-1.rds.amazonaws.com\n",
    "#port: 3306"
   ]
  },
  {
   "cell_type": "code",
   "execution_count": 443,
   "metadata": {},
   "outputs": [],
   "source": [
    "db = pymysql.connect(host = 'databasetrabalho1.ctwhhho2wipa.sa-east-1.rds.amazonaws.com', user = 'natalia', password = 'xxxx')"
   ]
  },
  {
   "cell_type": "code",
   "execution_count": 444,
   "metadata": {},
   "outputs": [],
   "source": [
    "cursor = db.cursor()"
   ]
  },
  {
   "cell_type": "code",
   "execution_count": 10,
   "metadata": {},
   "outputs": [
    {
     "data": {
      "text/plain": [
       "<pymysql.cursors.Cursor at 0x7fd7b965b460>"
      ]
     },
     "execution_count": 10,
     "metadata": {},
     "output_type": "execute_result"
    }
   ],
   "source": [
    "cursor"
   ]
  },
  {
   "cell_type": "code",
   "execution_count": 11,
   "metadata": {},
   "outputs": [
    {
     "data": {
      "text/plain": [
       "5"
      ]
     },
     "execution_count": 11,
     "metadata": {},
     "output_type": "execute_result"
    }
   ],
   "source": [
    "sql = '''drop database jogos'''\n",
    "cursor.execute(sql)"
   ]
  },
  {
   "cell_type": "code",
   "execution_count": 12,
   "metadata": {},
   "outputs": [
    {
     "data": {
      "text/plain": [
       "1"
      ]
     },
     "execution_count": 12,
     "metadata": {},
     "output_type": "execute_result"
    }
   ],
   "source": [
    "sql = '''create database jogos'''\n",
    "cursor.execute(sql)"
   ]
  },
  {
   "cell_type": "code",
   "execution_count": 445,
   "metadata": {},
   "outputs": [
    {
     "data": {
      "text/plain": [
       "0"
      ]
     },
     "execution_count": 445,
     "metadata": {},
     "output_type": "execute_result"
    }
   ],
   "source": [
    "sql = '''use jogos'''\n",
    "cursor.execute(sql)"
   ]
  },
  {
   "cell_type": "code",
   "execution_count": 14,
   "metadata": {},
   "outputs": [],
   "source": [
    "cursor.connection.commit()"
   ]
  },
  {
   "cell_type": "code",
   "execution_count": 15,
   "metadata": {},
   "outputs": [
    {
     "name": "stdout",
     "output_type": "stream",
     "text": [
      "medals_total_columns\n",
      "coaches_columns\n",
      "technical_officials_columns\n",
      "athletes_columns\n",
      "medals_columns\n"
     ]
    }
   ],
   "source": [
    "for i in x.keys():\n",
    "    j = i.replace(\"_df\", \"_columns\")\n",
    "    print(j)\n",
    "    locals()[j] = list(locals()[i].columns)"
   ]
  },
  {
   "cell_type": "code",
   "execution_count": 424,
   "metadata": {},
   "outputs": [
    {
     "name": "stdout",
     "output_type": "stream",
     "text": [
      "['rank', 'country_code', 'gold_medal', 'silver_medal', 'bronze_medal', 'total', 'country']\n",
      "['name', 'short_name', 'gender', 'birth_date', 'country_code', 'discipline', 'function', 'event', 'url']\n",
      "['name', 'short_name', 'gender', 'birth_date', 'country', 'discipline', 'function', 'url']\n",
      "['name', 'short_name', 'gender', 'birth_date', 'birth_place', 'birth_country', 'country', 'country_code', 'discipline', 'discipline_code', 'residence_place', 'residence_country', 'height_m_ft', 'url']\n",
      "['medal_type', 'medal_code', 'medal_date', 'athlete_short_name', 'athlete_name', 'athlete_sex', 'athlete_link', 'country_code', 'discipline_code', 'event', 'country', 'discipline']\n"
     ]
    }
   ],
   "source": [
    "print(medals_total_columns)\n",
    "print(coaches_columns)\n",
    "print(technical_officials_columns)\n",
    "print(athletes_columns)\n",
    "print(medals_columns)"
   ]
  },
  {
   "cell_type": "markdown",
   "metadata": {},
   "source": [
    "<h3><b><font size=3 >Medals_total_df</font></b></h3>"
   ]
  },
  {
   "cell_type": "code",
   "execution_count": 17,
   "metadata": {},
   "outputs": [
    {
     "name": "stdout",
     "output_type": "stream",
     "text": [
      "   rank country_code  gold_medal  silver_medal  bronze_medal  total  \\\n",
      "0     1          USA          39            41            33    113   \n",
      "1     2          CHN          38            32            18     88   \n",
      "2     3          JPN          27            14            17     58   \n",
      "3     4          GBR          22            21            22     65   \n",
      "4     5          ROC          20            28            23     71   \n",
      "\n",
      "                      country  \n",
      "0    United States of America  \n",
      "1  People's Republic of China  \n",
      "2                       Japan  \n",
      "3               Great Britain  \n",
      "4                         ROC  \n",
      "<class 'pandas.core.frame.DataFrame'>\n",
      "RangeIndex: 93 entries, 0 to 92\n",
      "Data columns (total 7 columns):\n",
      " #   Column        Non-Null Count  Dtype \n",
      "---  ------        --------------  ----- \n",
      " 0   rank          93 non-null     int64 \n",
      " 1   country_code  93 non-null     object\n",
      " 2   gold_medal    93 non-null     int64 \n",
      " 3   silver_medal  93 non-null     int64 \n",
      " 4   bronze_medal  93 non-null     int64 \n",
      " 5   total         93 non-null     int64 \n",
      " 6   country       93 non-null     object\n",
      "dtypes: int64(5), object(2)\n",
      "memory usage: 5.2+ KB\n",
      "None\n"
     ]
    }
   ],
   "source": [
    "print(medals_total_df.head(5))\n",
    "print(medals_total_df.info())"
   ]
  },
  {
   "cell_type": "code",
   "execution_count": 18,
   "metadata": {},
   "outputs": [],
   "source": [
    "sql = '''CREATE TABLE medals_total_df (\n",
    "    rank_country INT,\n",
    "    country_code VARCHAR(10),\n",
    "    gold_medal INT,\n",
    "    silver_medal INT,\n",
    "    bronze_medal INT,\n",
    "    total INT,\n",
    "    country VARCHAR(100))'''"
   ]
  },
  {
   "cell_type": "code",
   "execution_count": 19,
   "metadata": {},
   "outputs": [
    {
     "data": {
      "text/plain": [
       "0"
      ]
     },
     "execution_count": 19,
     "metadata": {},
     "output_type": "execute_result"
    }
   ],
   "source": [
    "sql\n",
    "cursor.execute(sql)"
   ]
  },
  {
   "cell_type": "code",
   "execution_count": 20,
   "metadata": {},
   "outputs": [],
   "source": [
    "cursor.connection.commit()"
   ]
  },
  {
   "cell_type": "code",
   "execution_count": 21,
   "metadata": {},
   "outputs": [
    {
     "data": {
      "text/plain": [
       "0"
      ]
     },
     "execution_count": 21,
     "metadata": {},
     "output_type": "execute_result"
    }
   ],
   "source": [
    "cursor.execute('''SELECT * FROM medals_total_df''')"
   ]
  },
  {
   "cell_type": "code",
   "execution_count": 22,
   "metadata": {},
   "outputs": [],
   "source": [
    "for i,row in medals_total_df.iterrows():\n",
    "    #here %S means string values \n",
    "    sql = \"INSERT INTO jogos.medals_total_df VALUES (%s,%s,%s,%s,%s,%s,%s)\"\n",
    "    cursor.execute(sql, tuple(row))"
   ]
  },
  {
   "cell_type": "code",
   "execution_count": 23,
   "metadata": {},
   "outputs": [],
   "source": [
    "cursor.connection.commit()"
   ]
  },
  {
   "cell_type": "code",
   "execution_count": 24,
   "metadata": {},
   "outputs": [
    {
     "data": {
      "text/plain": [
       "93"
      ]
     },
     "execution_count": 24,
     "metadata": {},
     "output_type": "execute_result"
    }
   ],
   "source": [
    "cursor.execute('''SELECT * FROM medals_total_df''')"
   ]
  },
  {
   "cell_type": "markdown",
   "metadata": {},
   "source": [
    "<h3><b><font size=3 >Coaches_df</font></b></h3>"
   ]
  },
  {
   "cell_type": "code",
   "execution_count": 25,
   "metadata": {},
   "outputs": [
    {
     "name": "stdout",
     "output_type": "stream",
     "text": [
      "<class 'pandas.core.frame.DataFrame'>\n",
      "RangeIndex: 407 entries, 0 to 406\n",
      "Data columns (total 9 columns):\n",
      " #   Column        Non-Null Count  Dtype \n",
      "---  ------        --------------  ----- \n",
      " 0   name          407 non-null    object\n",
      " 1   short_name    407 non-null    object\n",
      " 2   gender        407 non-null    object\n",
      " 3   birth_date    407 non-null    object\n",
      " 4   country_code  407 non-null    object\n",
      " 5   discipline    407 non-null    object\n",
      " 6   function      407 non-null    object\n",
      " 7   event         281 non-null    object\n",
      " 8   url           407 non-null    object\n",
      "dtypes: object(9)\n",
      "memory usage: 28.7+ KB\n",
      "None\n",
      "              name    short_name gender  birth_date country_code  discipline  \\\n",
      "0  ABDELMAGID Wael  ABDELMAGID W   Male  1982-08-02          EGY    Football   \n",
      "1        ABE Junya         ABE J   Male  1990-07-25          JPN  Volleyball   \n",
      "2    ABE Katsuhiko         ABE K   Male  1979-09-23          JPN  Basketball   \n",
      "3     ADAMA Cherif       ADAMA C   Male  1962-05-06          CIV    Football   \n",
      "4       AGEBA Yuya       AGEBA Y   Male  1983-09-30          JPN  Volleyball   \n",
      "\n",
      "     function event                                                url  \n",
      "0  Head Coach   NaN  ../../../en/results/football/athlete-profile-n...  \n",
      "1  Head Coach   NaN  ../../../en/results/volleyball/athlete-profile...  \n",
      "2       Coach   NaN  ../../../en/results/basketball/athlete-profile...  \n",
      "3  Head Coach   NaN  ../../../en/results/football/athlete-profile-n...  \n",
      "4  Head Coach   NaN  ../../../en/results/volleyball/athlete-profile...  \n"
     ]
    }
   ],
   "source": [
    "print(coaches_df.info())\n",
    "print(coaches_df.head(5))"
   ]
  },
  {
   "cell_type": "code",
   "execution_count": 26,
   "metadata": {},
   "outputs": [],
   "source": [
    "sql = '''CREATE TABLE coaches_df (\n",
    " name VARCHAR(100)\n",
    " ,short_name VARCHAR(100)\n",
    " ,gender VARCHAR(10)\n",
    " ,birth_date DATE\n",
    " ,country_code VARCHAR(10)\n",
    " ,discipline VARCHAR(100)\n",
    " ,function_name VARCHAR(50)\n",
    " ,event_name VARCHAR(10)\n",
    " ,url_link VARCHAR(100))'''"
   ]
  },
  {
   "cell_type": "code",
   "execution_count": 27,
   "metadata": {},
   "outputs": [
    {
     "data": {
      "text/plain": [
       "0"
      ]
     },
     "execution_count": 27,
     "metadata": {},
     "output_type": "execute_result"
    }
   ],
   "source": [
    "sql\n",
    "cursor.execute(sql)"
   ]
  },
  {
   "cell_type": "code",
   "execution_count": 28,
   "metadata": {},
   "outputs": [],
   "source": [
    "cursor.connection.commit()"
   ]
  },
  {
   "cell_type": "code",
   "execution_count": 29,
   "metadata": {},
   "outputs": [],
   "source": [
    "coaches_df = coaches_df.where(pd.notnull(coaches_df), None)"
   ]
  },
  {
   "cell_type": "code",
   "execution_count": 30,
   "metadata": {},
   "outputs": [],
   "source": [
    "for i,row in coaches_df.iterrows():\n",
    "    #here %S means string values \n",
    "    sql = \"INSERT INTO jogos.coaches_df VALUES (%s,%s,%s,%s,%s,%s,%s,%s,%s)\"\n",
    "    cursor.execute(sql, tuple(row))"
   ]
  },
  {
   "cell_type": "code",
   "execution_count": 31,
   "metadata": {},
   "outputs": [
    {
     "data": {
      "text/plain": [
       "407"
      ]
     },
     "execution_count": 31,
     "metadata": {},
     "output_type": "execute_result"
    }
   ],
   "source": [
    "cursor.execute('''SELECT * FROM coaches_df''')"
   ]
  },
  {
   "cell_type": "markdown",
   "metadata": {},
   "source": [
    "<h3><b><font size=3 >Technical_officials_df</font></b></h3>"
   ]
  },
  {
   "cell_type": "code",
   "execution_count": 32,
   "metadata": {},
   "outputs": [
    {
     "name": "stdout",
     "output_type": "stream",
     "text": [
      "<class 'pandas.core.frame.DataFrame'>\n",
      "RangeIndex: 956 entries, 0 to 955\n",
      "Data columns (total 8 columns):\n",
      " #   Column      Non-Null Count  Dtype \n",
      "---  ------      --------------  ----- \n",
      " 0   name        956 non-null    object\n",
      " 1   short_name  956 non-null    object\n",
      " 2   gender      956 non-null    object\n",
      " 3   birth_date  956 non-null    object\n",
      " 4   country     956 non-null    object\n",
      " 5   discipline  956 non-null    object\n",
      " 6   function    956 non-null    object\n",
      " 7   url         956 non-null    object\n",
      "dtypes: object(8)\n",
      "memory usage: 59.9+ KB\n",
      "None\n",
      "                         name     short_name  gender  birth_date     country  \\\n",
      "0                ABAEVA Elena       ABAEVA E  Female  1966-04-21  Uzbekistan   \n",
      "1                ABBAR Bachir        ABBAR B    Male  1965-05-03     Morocco   \n",
      "2         ABDELLATIF Makfouni   ABDELLATIF M    Male  1972-11-23     Morocco   \n",
      "3                    ABE Miya          ABE M  Female  1992-10-27       Japan   \n",
      "4  ACIGA FULA Antonio Stephen  ACIGA FULA AS    Male  1957-11-28      Uganda   \n",
      "\n",
      "         discipline function  \\\n",
      "0         Wrestling    Judge   \n",
      "1            Boxing    Judge   \n",
      "2            Boxing    Judge   \n",
      "3  Beach Volleyball  Referee   \n",
      "4            Boxing    Judge   \n",
      "\n",
      "                                                 url  \n",
      "0  ../../../en/results/wrestling/athlete-profile-...  \n",
      "1  ../../../en/results/boxing/athlete-profile-n15...  \n",
      "2  ../../../en/results/boxing/athlete-profile-n15...  \n",
      "3  ../../../en/results/beach-volleyball/athlete-p...  \n",
      "4  ../../../en/results/boxing/athlete-profile-n15...  \n"
     ]
    }
   ],
   "source": [
    "print(technical_officials_df.info())\n",
    "print(technical_officials_df.head(5))"
   ]
  },
  {
   "cell_type": "code",
   "execution_count": 33,
   "metadata": {},
   "outputs": [],
   "source": [
    "sql = '''CREATE TABLE technical_officials_df (\n",
    " name VARCHAR(100)\n",
    " ,short_name VARCHAR(100)\n",
    " ,gender VARCHAR(10)\n",
    " ,birth_date DATE\n",
    " ,country VARCHAR(10)\n",
    " ,discipline VARCHAR(100)\n",
    " ,function_name VARCHAR(50)\n",
    " ,url_link VARCHAR(100))'''"
   ]
  },
  {
   "cell_type": "code",
   "execution_count": 34,
   "metadata": {},
   "outputs": [
    {
     "data": {
      "text/plain": [
       "0"
      ]
     },
     "execution_count": 34,
     "metadata": {},
     "output_type": "execute_result"
    }
   ],
   "source": [
    "sql\n",
    "cursor.execute(sql)"
   ]
  },
  {
   "cell_type": "code",
   "execution_count": 35,
   "metadata": {},
   "outputs": [],
   "source": [
    "cursor.connection.commit()"
   ]
  },
  {
   "cell_type": "code",
   "execution_count": 36,
   "metadata": {},
   "outputs": [
    {
     "data": {
      "text/plain": [
       "0"
      ]
     },
     "execution_count": 36,
     "metadata": {},
     "output_type": "execute_result"
    }
   ],
   "source": [
    "cursor.execute('''SELECT * FROM technical_officials_df''')"
   ]
  },
  {
   "cell_type": "code",
   "execution_count": 37,
   "metadata": {},
   "outputs": [],
   "source": [
    "for i,row in technical_officials_df.iterrows():\n",
    "    #here %S means string values \n",
    "    sql = \"INSERT INTO jogos.technical_officials_df VALUES (%s,%s,%s,%s,%s,%s,%s,%s)\"\n",
    "    cursor.execute(sql, tuple(row))"
   ]
  },
  {
   "cell_type": "code",
   "execution_count": 38,
   "metadata": {},
   "outputs": [],
   "source": [
    "cursor.connection.commit()"
   ]
  },
  {
   "cell_type": "code",
   "execution_count": 88,
   "metadata": {},
   "outputs": [
    {
     "data": {
      "text/plain": [
       "956"
      ]
     },
     "execution_count": 88,
     "metadata": {},
     "output_type": "execute_result"
    }
   ],
   "source": [
    "cursor.execute('''SELECT * FROM technical_officials_df''')"
   ]
  },
  {
   "cell_type": "markdown",
   "metadata": {},
   "source": [
    "<h3><b><font size=3 >Athletes_df</font></b></h3>"
   ]
  },
  {
   "cell_type": "code",
   "execution_count": 40,
   "metadata": {},
   "outputs": [
    {
     "name": "stdout",
     "output_type": "stream",
     "text": [
      "<class 'pandas.core.frame.DataFrame'>\n",
      "RangeIndex: 11656 entries, 0 to 11655\n",
      "Data columns (total 14 columns):\n",
      " #   Column             Non-Null Count  Dtype \n",
      "---  ------             --------------  ----- \n",
      " 0   name               11656 non-null  object\n",
      " 1   short_name         11656 non-null  object\n",
      " 2   gender             11497 non-null  object\n",
      " 3   birth_date         11497 non-null  object\n",
      " 4   birth_place        7608 non-null   object\n",
      " 5   birth_country      8320 non-null   object\n",
      " 6   country            11656 non-null  object\n",
      " 7   country_code       11656 non-null  object\n",
      " 8   discipline         11497 non-null  object\n",
      " 9   discipline_code    11656 non-null  object\n",
      " 10  residence_place    7249 non-null   object\n",
      " 11  residence_country  6545 non-null   object\n",
      " 12  height_m_ft        4655 non-null   object\n",
      " 13  url                11656 non-null  object\n",
      "dtypes: object(14)\n",
      "memory usage: 1.2+ MB\n",
      "None\n",
      "                name  short_name  gender  birth_date birth_place  \\\n",
      "0    AALERUD Katrine   AALERUD K  Female  1994-12-04      VESTBY   \n",
      "1        ABAD Nestor      ABAD N    Male  1993-03-29       ALCOI   \n",
      "2  ABAGNALE Giovanni  ABAGNALE G    Male  1995-01-11    GRAGNANO   \n",
      "3     ABALDE Alberto    ABALDE A    Male  1995-12-15      FERROL   \n",
      "4      ABALDE Tamara    ABALDE T  Female  1989-02-06        VIGO   \n",
      "\n",
      "  birth_country country country_code           discipline discipline_code  \\\n",
      "0        Norway  Norway          NOR         Cycling Road             CRD   \n",
      "1         Spain   Spain          ESP  Artistic Gymnastics             GAR   \n",
      "2         Italy   Italy          ITA               Rowing             ROW   \n",
      "3         Spain   Spain          ESP           Basketball             BKB   \n",
      "4         Spain   Spain          ESP           Basketball             BKB   \n",
      "\n",
      "  residence_place residence_country height_m_ft  \\\n",
      "0             NaN               NaN         NaN   \n",
      "1          MADRID             Spain  1.65/5'4''   \n",
      "2        SABAUDIA             Italy  1.98/6'5''   \n",
      "3             NaN               NaN  2.00/6'6''   \n",
      "4             NaN               NaN  1.92/6'3''   \n",
      "\n",
      "                                                 url  \n",
      "0  ../../../en/results/cycling-road/athlete-profi...  \n",
      "1  ../../../en/results/artistic-gymnastics/athlet...  \n",
      "2  ../../../en/results/rowing/athlete-profile-n13...  \n",
      "3  ../../../en/results/basketball/athlete-profile...  \n",
      "4  ../../../en/results/basketball/athlete-profile...  \n"
     ]
    }
   ],
   "source": [
    "print(athletes_df.info())\n",
    "print(athletes_df.head(5))"
   ]
  },
  {
   "cell_type": "code",
   "execution_count": 41,
   "metadata": {},
   "outputs": [],
   "source": [
    "athletes_df = athletes_df.where(pd.notnull(athletes_df), None)"
   ]
  },
  {
   "cell_type": "code",
   "execution_count": 42,
   "metadata": {},
   "outputs": [],
   "source": [
    "x = athletes_df['height_m_ft'].str.split('/',expand=True)\n",
    "x.replace(np.nan, None)\n",
    "athletes_df[['height_m','height_ft']] = x"
   ]
  },
  {
   "cell_type": "code",
   "execution_count": 43,
   "metadata": {},
   "outputs": [
    {
     "data": {
      "text/html": [
       "<div>\n",
       "<style scoped>\n",
       "    .dataframe tbody tr th:only-of-type {\n",
       "        vertical-align: middle;\n",
       "    }\n",
       "\n",
       "    .dataframe tbody tr th {\n",
       "        vertical-align: top;\n",
       "    }\n",
       "\n",
       "    .dataframe thead th {\n",
       "        text-align: right;\n",
       "    }\n",
       "</style>\n",
       "<table border=\"1\" class=\"dataframe\">\n",
       "  <thead>\n",
       "    <tr style=\"text-align: right;\">\n",
       "      <th></th>\n",
       "      <th>name</th>\n",
       "      <th>short_name</th>\n",
       "      <th>gender</th>\n",
       "      <th>birth_date</th>\n",
       "      <th>birth_place</th>\n",
       "      <th>birth_country</th>\n",
       "      <th>country</th>\n",
       "      <th>country_code</th>\n",
       "      <th>discipline</th>\n",
       "      <th>discipline_code</th>\n",
       "      <th>residence_place</th>\n",
       "      <th>residence_country</th>\n",
       "      <th>height_m_ft</th>\n",
       "      <th>url</th>\n",
       "      <th>height_m</th>\n",
       "      <th>height_ft</th>\n",
       "    </tr>\n",
       "  </thead>\n",
       "  <tbody>\n",
       "    <tr>\n",
       "      <th>0</th>\n",
       "      <td>AALERUD Katrine</td>\n",
       "      <td>AALERUD K</td>\n",
       "      <td>Female</td>\n",
       "      <td>1994-12-04</td>\n",
       "      <td>VESTBY</td>\n",
       "      <td>Norway</td>\n",
       "      <td>Norway</td>\n",
       "      <td>NOR</td>\n",
       "      <td>Cycling Road</td>\n",
       "      <td>CRD</td>\n",
       "      <td>None</td>\n",
       "      <td>None</td>\n",
       "      <td>None</td>\n",
       "      <td>../../../en/results/cycling-road/athlete-profi...</td>\n",
       "      <td>None</td>\n",
       "      <td>None</td>\n",
       "    </tr>\n",
       "    <tr>\n",
       "      <th>1</th>\n",
       "      <td>ABAD Nestor</td>\n",
       "      <td>ABAD N</td>\n",
       "      <td>Male</td>\n",
       "      <td>1993-03-29</td>\n",
       "      <td>ALCOI</td>\n",
       "      <td>Spain</td>\n",
       "      <td>Spain</td>\n",
       "      <td>ESP</td>\n",
       "      <td>Artistic Gymnastics</td>\n",
       "      <td>GAR</td>\n",
       "      <td>MADRID</td>\n",
       "      <td>Spain</td>\n",
       "      <td>1.65/5'4''</td>\n",
       "      <td>../../../en/results/artistic-gymnastics/athlet...</td>\n",
       "      <td>1.65</td>\n",
       "      <td>5'4''</td>\n",
       "    </tr>\n",
       "    <tr>\n",
       "      <th>2</th>\n",
       "      <td>ABAGNALE Giovanni</td>\n",
       "      <td>ABAGNALE G</td>\n",
       "      <td>Male</td>\n",
       "      <td>1995-01-11</td>\n",
       "      <td>GRAGNANO</td>\n",
       "      <td>Italy</td>\n",
       "      <td>Italy</td>\n",
       "      <td>ITA</td>\n",
       "      <td>Rowing</td>\n",
       "      <td>ROW</td>\n",
       "      <td>SABAUDIA</td>\n",
       "      <td>Italy</td>\n",
       "      <td>1.98/6'5''</td>\n",
       "      <td>../../../en/results/rowing/athlete-profile-n13...</td>\n",
       "      <td>1.98</td>\n",
       "      <td>6'5''</td>\n",
       "    </tr>\n",
       "    <tr>\n",
       "      <th>3</th>\n",
       "      <td>ABALDE Alberto</td>\n",
       "      <td>ABALDE A</td>\n",
       "      <td>Male</td>\n",
       "      <td>1995-12-15</td>\n",
       "      <td>FERROL</td>\n",
       "      <td>Spain</td>\n",
       "      <td>Spain</td>\n",
       "      <td>ESP</td>\n",
       "      <td>Basketball</td>\n",
       "      <td>BKB</td>\n",
       "      <td>None</td>\n",
       "      <td>None</td>\n",
       "      <td>2.00/6'6''</td>\n",
       "      <td>../../../en/results/basketball/athlete-profile...</td>\n",
       "      <td>2.00</td>\n",
       "      <td>6'6''</td>\n",
       "    </tr>\n",
       "    <tr>\n",
       "      <th>4</th>\n",
       "      <td>ABALDE Tamara</td>\n",
       "      <td>ABALDE T</td>\n",
       "      <td>Female</td>\n",
       "      <td>1989-02-06</td>\n",
       "      <td>VIGO</td>\n",
       "      <td>Spain</td>\n",
       "      <td>Spain</td>\n",
       "      <td>ESP</td>\n",
       "      <td>Basketball</td>\n",
       "      <td>BKB</td>\n",
       "      <td>None</td>\n",
       "      <td>None</td>\n",
       "      <td>1.92/6'3''</td>\n",
       "      <td>../../../en/results/basketball/athlete-profile...</td>\n",
       "      <td>1.92</td>\n",
       "      <td>6'3''</td>\n",
       "    </tr>\n",
       "    <tr>\n",
       "      <th>...</th>\n",
       "      <td>...</td>\n",
       "      <td>...</td>\n",
       "      <td>...</td>\n",
       "      <td>...</td>\n",
       "      <td>...</td>\n",
       "      <td>...</td>\n",
       "      <td>...</td>\n",
       "      <td>...</td>\n",
       "      <td>...</td>\n",
       "      <td>...</td>\n",
       "      <td>...</td>\n",
       "      <td>...</td>\n",
       "      <td>...</td>\n",
       "      <td>...</td>\n",
       "      <td>...</td>\n",
       "      <td>...</td>\n",
       "    </tr>\n",
       "    <tr>\n",
       "      <th>11651</th>\n",
       "      <td>ZWICKER Martin Detlef</td>\n",
       "      <td>ZWICKER MD</td>\n",
       "      <td>Male</td>\n",
       "      <td>1987-02-27</td>\n",
       "      <td>KOTHEN</td>\n",
       "      <td>Germany</td>\n",
       "      <td>Germany</td>\n",
       "      <td>GER</td>\n",
       "      <td>Hockey</td>\n",
       "      <td>HOC</td>\n",
       "      <td>None</td>\n",
       "      <td>None</td>\n",
       "      <td>1.76/5'9''</td>\n",
       "      <td>../../../en/results/hockey/athlete-profile-n13...</td>\n",
       "      <td>1.76</td>\n",
       "      <td>5'9''</td>\n",
       "    </tr>\n",
       "    <tr>\n",
       "      <th>11652</th>\n",
       "      <td>ZWOLINSKA Klaudia</td>\n",
       "      <td>ZWOLINSKA K</td>\n",
       "      <td>Female</td>\n",
       "      <td>1998-12-18</td>\n",
       "      <td>None</td>\n",
       "      <td>None</td>\n",
       "      <td>Poland</td>\n",
       "      <td>POL</td>\n",
       "      <td>Canoe Slalom</td>\n",
       "      <td>CSL</td>\n",
       "      <td>NOWY SACZ</td>\n",
       "      <td>Poland</td>\n",
       "      <td>None</td>\n",
       "      <td>../../../en/results/canoe-slalom/athlete-profi...</td>\n",
       "      <td>None</td>\n",
       "      <td>None</td>\n",
       "    </tr>\n",
       "    <tr>\n",
       "      <th>11653</th>\n",
       "      <td>ZYKOVA Yulia</td>\n",
       "      <td>ZYKOVA Y</td>\n",
       "      <td>Female</td>\n",
       "      <td>1995-11-25</td>\n",
       "      <td>KRASNOYARSK</td>\n",
       "      <td>Russian Federation</td>\n",
       "      <td>ROC</td>\n",
       "      <td>ROC</td>\n",
       "      <td>Shooting</td>\n",
       "      <td>SHO</td>\n",
       "      <td>KRASNOYARSK</td>\n",
       "      <td>Russian Federation</td>\n",
       "      <td>None</td>\n",
       "      <td>../../../en/results/shooting/athlete-profile-n...</td>\n",
       "      <td>None</td>\n",
       "      <td>None</td>\n",
       "    </tr>\n",
       "    <tr>\n",
       "      <th>11654</th>\n",
       "      <td>ZYUZINA Ekaterina</td>\n",
       "      <td>ZYUZINA E</td>\n",
       "      <td>Female</td>\n",
       "      <td>1996-12-08</td>\n",
       "      <td>LIPETSK</td>\n",
       "      <td>Russian Federation</td>\n",
       "      <td>ROC</td>\n",
       "      <td>ROC</td>\n",
       "      <td>Sailing</td>\n",
       "      <td>SAL</td>\n",
       "      <td>LIPETSK</td>\n",
       "      <td>Russian Federation</td>\n",
       "      <td>None</td>\n",
       "      <td>../../../en/results/sailing/athlete-profile-n1...</td>\n",
       "      <td>None</td>\n",
       "      <td>None</td>\n",
       "    </tr>\n",
       "    <tr>\n",
       "      <th>11655</th>\n",
       "      <td>ZYZANSKA Sylwia</td>\n",
       "      <td>ZYZANSKA S</td>\n",
       "      <td>Female</td>\n",
       "      <td>1997-07-27</td>\n",
       "      <td>None</td>\n",
       "      <td>None</td>\n",
       "      <td>Poland</td>\n",
       "      <td>POL</td>\n",
       "      <td>Archery</td>\n",
       "      <td>ARC</td>\n",
       "      <td>None</td>\n",
       "      <td>None</td>\n",
       "      <td>None</td>\n",
       "      <td>../../../en/results/archery/athlete-profile-n1...</td>\n",
       "      <td>None</td>\n",
       "      <td>None</td>\n",
       "    </tr>\n",
       "  </tbody>\n",
       "</table>\n",
       "<p>11656 rows × 16 columns</p>\n",
       "</div>"
      ],
      "text/plain": [
       "                        name   short_name  gender  birth_date  birth_place  \\\n",
       "0            AALERUD Katrine    AALERUD K  Female  1994-12-04       VESTBY   \n",
       "1                ABAD Nestor       ABAD N    Male  1993-03-29        ALCOI   \n",
       "2          ABAGNALE Giovanni   ABAGNALE G    Male  1995-01-11     GRAGNANO   \n",
       "3             ABALDE Alberto     ABALDE A    Male  1995-12-15       FERROL   \n",
       "4              ABALDE Tamara     ABALDE T  Female  1989-02-06         VIGO   \n",
       "...                      ...          ...     ...         ...          ...   \n",
       "11651  ZWICKER Martin Detlef   ZWICKER MD    Male  1987-02-27       KOTHEN   \n",
       "11652      ZWOLINSKA Klaudia  ZWOLINSKA K  Female  1998-12-18         None   \n",
       "11653           ZYKOVA Yulia     ZYKOVA Y  Female  1995-11-25  KRASNOYARSK   \n",
       "11654      ZYUZINA Ekaterina    ZYUZINA E  Female  1996-12-08      LIPETSK   \n",
       "11655        ZYZANSKA Sylwia   ZYZANSKA S  Female  1997-07-27         None   \n",
       "\n",
       "            birth_country  country country_code           discipline  \\\n",
       "0                  Norway   Norway          NOR         Cycling Road   \n",
       "1                   Spain    Spain          ESP  Artistic Gymnastics   \n",
       "2                   Italy    Italy          ITA               Rowing   \n",
       "3                   Spain    Spain          ESP           Basketball   \n",
       "4                   Spain    Spain          ESP           Basketball   \n",
       "...                   ...      ...          ...                  ...   \n",
       "11651             Germany  Germany          GER               Hockey   \n",
       "11652                None   Poland          POL         Canoe Slalom   \n",
       "11653  Russian Federation      ROC          ROC             Shooting   \n",
       "11654  Russian Federation      ROC          ROC              Sailing   \n",
       "11655                None   Poland          POL              Archery   \n",
       "\n",
       "      discipline_code residence_place   residence_country height_m_ft  \\\n",
       "0                 CRD            None                None        None   \n",
       "1                 GAR          MADRID               Spain  1.65/5'4''   \n",
       "2                 ROW        SABAUDIA               Italy  1.98/6'5''   \n",
       "3                 BKB            None                None  2.00/6'6''   \n",
       "4                 BKB            None                None  1.92/6'3''   \n",
       "...               ...             ...                 ...         ...   \n",
       "11651             HOC            None                None  1.76/5'9''   \n",
       "11652             CSL       NOWY SACZ              Poland        None   \n",
       "11653             SHO     KRASNOYARSK  Russian Federation        None   \n",
       "11654             SAL         LIPETSK  Russian Federation        None   \n",
       "11655             ARC            None                None        None   \n",
       "\n",
       "                                                     url height_m height_ft  \n",
       "0      ../../../en/results/cycling-road/athlete-profi...     None      None  \n",
       "1      ../../../en/results/artistic-gymnastics/athlet...     1.65     5'4''  \n",
       "2      ../../../en/results/rowing/athlete-profile-n13...     1.98     6'5''  \n",
       "3      ../../../en/results/basketball/athlete-profile...     2.00     6'6''  \n",
       "4      ../../../en/results/basketball/athlete-profile...     1.92     6'3''  \n",
       "...                                                  ...      ...       ...  \n",
       "11651  ../../../en/results/hockey/athlete-profile-n13...     1.76     5'9''  \n",
       "11652  ../../../en/results/canoe-slalom/athlete-profi...     None      None  \n",
       "11653  ../../../en/results/shooting/athlete-profile-n...     None      None  \n",
       "11654  ../../../en/results/sailing/athlete-profile-n1...     None      None  \n",
       "11655  ../../../en/results/archery/athlete-profile-n1...     None      None  \n",
       "\n",
       "[11656 rows x 16 columns]"
      ]
     },
     "execution_count": 43,
     "metadata": {},
     "output_type": "execute_result"
    }
   ],
   "source": [
    "athletes_df"
   ]
  },
  {
   "cell_type": "code",
   "execution_count": 44,
   "metadata": {},
   "outputs": [],
   "source": [
    "sql = '''CREATE TABLE athletes_df (\n",
    " name VARCHAR(100)\n",
    " ,short_name VARCHAR(100)\n",
    " ,gender VARCHAR(10)\n",
    " ,birth_date DATE\n",
    " ,birth_place VARCHAR(100)\n",
    " ,birth_country VARCHAR(100)\n",
    " ,country VARCHAR(100)\n",
    " ,country_code VARCHAR(10)\n",
    " ,discipline VARCHAR(100)\n",
    " ,discipline_code VARCHAR(100)\n",
    " ,residence_place VARCHAR(100)\n",
    " ,residence_country VARCHAR(100)\n",
    " ,height_m_ft VARCHAR(100)\n",
    " ,url_link VARCHAR(100)\n",
    " ,height_m DECIMAL(3,2)\n",
    " ,height_ft VARCHAR(10))'''"
   ]
  },
  {
   "cell_type": "code",
   "execution_count": 45,
   "metadata": {},
   "outputs": [
    {
     "data": {
      "text/plain": [
       "0"
      ]
     },
     "execution_count": 45,
     "metadata": {},
     "output_type": "execute_result"
    }
   ],
   "source": [
    "sql\n",
    "cursor.execute(sql)"
   ]
  },
  {
   "cell_type": "code",
   "execution_count": 46,
   "metadata": {},
   "outputs": [
    {
     "data": {
      "text/plain": [
       "0"
      ]
     },
     "execution_count": 46,
     "metadata": {},
     "output_type": "execute_result"
    }
   ],
   "source": [
    "cursor.execute('''SELECT * FROM athletes_df''')"
   ]
  },
  {
   "cell_type": "code",
   "execution_count": 47,
   "metadata": {},
   "outputs": [],
   "source": [
    "cursor.connection.commit()"
   ]
  },
  {
   "cell_type": "code",
   "execution_count": 48,
   "metadata": {},
   "outputs": [],
   "source": [
    "for i,row in athletes_df.iterrows():\n",
    "    #here %S means string values \n",
    "    sql = \"INSERT INTO jogos.athletes_df VALUES (%s,%s,%s,%s,%s,%s,%s,%s,%s,%s,%s,%s,%s,%s,%s,%s)\"\n",
    "    cursor.execute(sql, tuple(row))"
   ]
  },
  {
   "cell_type": "code",
   "execution_count": 49,
   "metadata": {},
   "outputs": [],
   "source": [
    "cursor.connection.commit()"
   ]
  },
  {
   "cell_type": "code",
   "execution_count": 50,
   "metadata": {},
   "outputs": [
    {
     "data": {
      "text/plain": [
       "11656"
      ]
     },
     "execution_count": 50,
     "metadata": {},
     "output_type": "execute_result"
    }
   ],
   "source": [
    "cursor.execute('''SELECT * FROM athletes_df''')"
   ]
  },
  {
   "cell_type": "markdown",
   "metadata": {},
   "source": [
    "<h3><b><font size=3 >Medals_df</font></b></h3>"
   ]
  },
  {
   "cell_type": "code",
   "execution_count": 51,
   "metadata": {},
   "outputs": [
    {
     "name": "stdout",
     "output_type": "stream",
     "text": [
      "<class 'pandas.core.frame.DataFrame'>\n",
      "RangeIndex: 2401 entries, 0 to 2400\n",
      "Data columns (total 12 columns):\n",
      " #   Column              Non-Null Count  Dtype \n",
      "---  ------              --------------  ----- \n",
      " 0   medal_type          2401 non-null   object\n",
      " 1   medal_code          2401 non-null   int64 \n",
      " 2   medal_date          2401 non-null   object\n",
      " 3   athlete_short_name  2401 non-null   object\n",
      " 4   athlete_name        2401 non-null   object\n",
      " 5   athlete_sex         2401 non-null   object\n",
      " 6   athlete_link        2401 non-null   object\n",
      " 7   country_code        2401 non-null   object\n",
      " 8   discipline_code     2401 non-null   object\n",
      " 9   event               2401 non-null   object\n",
      " 10  country             2401 non-null   object\n",
      " 11  discipline          2401 non-null   object\n",
      "dtypes: int64(1), object(11)\n",
      "memory usage: 225.2+ KB\n",
      "None\n",
      "     medal_type  medal_code             medal_date athlete_short_name  \\\n",
      "0    Gold Medal           1  2021-07-24 00:00:00.0             KIM JD   \n",
      "1    Gold Medal           1  2021-07-24 00:00:00.0               AN S   \n",
      "2  Silver Medal           2  2021-07-24 00:00:00.0       SCHLOESSER G   \n",
      "3  Silver Medal           2  2021-07-24 00:00:00.0           WIJLER S   \n",
      "4  Bronze Medal           3  2021-07-24 00:00:00.0          ALVAREZ L   \n",
      "\n",
      "          athlete_name athlete_sex  \\\n",
      "0          KIM Je Deok           X   \n",
      "1               AN San           X   \n",
      "2  SCHLOESSER Gabriela           X   \n",
      "3         WIJLER Steve           X   \n",
      "4         ALVAREZ Luis           X   \n",
      "\n",
      "                                        athlete_link country_code  \\\n",
      "0  ../../../en/results/archery/athlete-profile-n1...          KOR   \n",
      "1  ../../../en/results/archery/athlete-profile-n1...          KOR   \n",
      "2  ../../../en/results/archery/athlete-profile-n1...          NED   \n",
      "3  ../../../en/results/archery/athlete-profile-n1...          NED   \n",
      "4  ../../../en/results/archery/athlete-profile-n1...          MEX   \n",
      "\n",
      "  discipline_code       event            country discipline  \n",
      "0             ARC  Mixed Team  Republic of Korea    Archery  \n",
      "1             ARC  Mixed Team  Republic of Korea    Archery  \n",
      "2             ARC  Mixed Team        Netherlands    Archery  \n",
      "3             ARC  Mixed Team        Netherlands    Archery  \n",
      "4             ARC  Mixed Team             Mexico    Archery  \n"
     ]
    }
   ],
   "source": [
    "print(medals_df.info())\n",
    "print(medals_df.head(5))"
   ]
  },
  {
   "cell_type": "code",
   "execution_count": 52,
   "metadata": {},
   "outputs": [],
   "source": [
    "sql = '''CREATE TABLE medals_df (\n",
    "  medal_type VARCHAR(100)\n",
    " ,medal_code INT \n",
    " ,medal_date DATE\n",
    " ,athlete_short_name VARCHAR(100)\n",
    " ,athlete_name VARCHAR(100)\n",
    " ,athlete_sex VARCHAR(100)\n",
    " ,athlete_link VARCHAR(100)\n",
    " ,country_code VARCHAR(10)\n",
    " ,discipline_code VARCHAR(10)\n",
    " ,event_name VARCHAR(100)\n",
    " ,country VARCHAR(100)\n",
    " ,discipline VARCHAR(100))'''"
   ]
  },
  {
   "cell_type": "code",
   "execution_count": 53,
   "metadata": {},
   "outputs": [
    {
     "data": {
      "text/plain": [
       "0"
      ]
     },
     "execution_count": 53,
     "metadata": {},
     "output_type": "execute_result"
    }
   ],
   "source": [
    "sql\n",
    "cursor.execute(sql)"
   ]
  },
  {
   "cell_type": "code",
   "execution_count": 54,
   "metadata": {},
   "outputs": [],
   "source": [
    "cursor.connection.commit()"
   ]
  },
  {
   "cell_type": "code",
   "execution_count": 55,
   "metadata": {},
   "outputs": [],
   "source": [
    "for i,row in medals_df.iterrows():\n",
    "    #here %S means string values \n",
    "    sql = \"INSERT INTO jogos.medals_df VALUES (%s,%s,%s,%s,%s,%s,%s,%s,%s,%s,%s,%s)\"\n",
    "    cursor.execute(sql, tuple(row))"
   ]
  },
  {
   "cell_type": "code",
   "execution_count": 56,
   "metadata": {},
   "outputs": [],
   "source": [
    "cursor.connection.commit()"
   ]
  },
  {
   "cell_type": "code",
   "execution_count": 57,
   "metadata": {},
   "outputs": [
    {
     "data": {
      "text/plain": [
       "2401"
      ]
     },
     "execution_count": 57,
     "metadata": {},
     "output_type": "execute_result"
    }
   ],
   "source": [
    "cursor.execute('''SELECT * FROM medals_df''')"
   ]
  },
  {
   "cell_type": "markdown",
   "metadata": {},
   "source": [
    "<b><font size=6 color='blue'>Consultas</font></b>"
   ]
  },
  {
   "cell_type": "markdown",
   "metadata": {},
   "source": [
    "<b><font size=5> 1. Qual país tem o atleta mais velho? E o mais novo? </font></b>"
   ]
  },
  {
   "cell_type": "code",
   "execution_count": 432,
   "metadata": {},
   "outputs": [
    {
     "name": "stdout",
     "output_type": "stream",
     "text": [
      "   idade_em_anos        name    country  birth_date\n",
      "0       66.72329  HANNA Mary  Australia  1954-12-01\n",
      "\n",
      "\n"
     ]
    }
   ],
   "source": [
    "sql = '''SELECT 1.0*datediff('2021-08-05', birth_date)/365 idade_em_anos, name, country, birth_date\n",
    "        FROM athletes_df\n",
    "        order by 1 desc\n",
    "        limit 1'''\n",
    "df1 = pd.read_sql(sql, db)\n",
    "print(df1)\n",
    "print(f'\\n')"
   ]
  },
  {
   "cell_type": "code",
   "execution_count": 433,
   "metadata": {},
   "outputs": [
    {
     "name": "stdout",
     "output_type": "stream",
     "text": [
      "   idade_em_anos       name               country  birth_date\n",
      "0           12.6  ZAZA Hend  Syrian Arab Republic  2009-01-01\n",
      "\n",
      "\n"
     ]
    }
   ],
   "source": [
    "sql = '''SELECT 1.0*datediff('2021-08-05', birth_date)/365 idade_em_anos, name, country, birth_date\n",
    "        FROM athletes_df\n",
    "        where birth_date is not null\n",
    "        order by 1 asc\n",
    "        limit 1'''\n",
    "df2 = pd.read_sql(sql, db)\n",
    "print(df2)\n",
    "print(f'\\n')"
   ]
  },
  {
   "cell_type": "code",
   "execution_count": 441,
   "metadata": {},
   "outputs": [
    {
     "name": "stdout",
     "output_type": "stream",
     "text": [
      "O atleta mais velho é da Australia e o mais novo é da Syrian Arab Republic\n"
     ]
    }
   ],
   "source": [
    "print(f\"O atleta mais velho é da {df1['country'][0]} e o mais novo é da {df2['country'][0]}\")"
   ]
  },
  {
   "cell_type": "markdown",
   "metadata": {},
   "source": [
    "<b><font size=5>2. Quais foram os 10 atletas que mais ganharam medalhas? Quantos ganharam mais de uma?</font></b>"
   ]
  },
  {
   "cell_type": "code",
   "execution_count": 447,
   "metadata": {},
   "outputs": [
    {
     "data": {
      "text/html": [
       "<div>\n",
       "<style scoped>\n",
       "    .dataframe tbody tr th:only-of-type {\n",
       "        vertical-align: middle;\n",
       "    }\n",
       "\n",
       "    .dataframe tbody tr th {\n",
       "        vertical-align: top;\n",
       "    }\n",
       "\n",
       "    .dataframe thead th {\n",
       "        text-align: right;\n",
       "    }\n",
       "</style>\n",
       "<table border=\"1\" class=\"dataframe\">\n",
       "  <thead>\n",
       "    <tr style=\"text-align: right;\">\n",
       "      <th></th>\n",
       "      <th>athlete_name</th>\n",
       "      <th>athlete_short_name</th>\n",
       "      <th>country</th>\n",
       "      <th>country_code</th>\n",
       "      <th>qtde</th>\n",
       "    </tr>\n",
       "  </thead>\n",
       "  <tbody>\n",
       "    <tr>\n",
       "      <th>0</th>\n",
       "      <td>McKEON Emma</td>\n",
       "      <td>McKEON E</td>\n",
       "      <td>Australia</td>\n",
       "      <td>AUS</td>\n",
       "      <td>7</td>\n",
       "    </tr>\n",
       "    <tr>\n",
       "      <th>1</th>\n",
       "      <td>DRESSEL Caeleb</td>\n",
       "      <td>DRESSEL C</td>\n",
       "      <td>United States of America</td>\n",
       "      <td>USA</td>\n",
       "      <td>5</td>\n",
       "    </tr>\n",
       "    <tr>\n",
       "      <th>2</th>\n",
       "      <td>LEDECKY Kathleen</td>\n",
       "      <td>LEDECKY K</td>\n",
       "      <td>United States of America</td>\n",
       "      <td>USA</td>\n",
       "      <td>4</td>\n",
       "    </tr>\n",
       "    <tr>\n",
       "      <th>3</th>\n",
       "      <td>TITMUS Ariarne</td>\n",
       "      <td>TITMUS A</td>\n",
       "      <td>Australia</td>\n",
       "      <td>AUS</td>\n",
       "      <td>4</td>\n",
       "    </tr>\n",
       "    <tr>\n",
       "      <th>4</th>\n",
       "      <td>SCOTT Duncan</td>\n",
       "      <td>SCOTT D</td>\n",
       "      <td>Great Britain</td>\n",
       "      <td>GBR</td>\n",
       "      <td>4</td>\n",
       "    </tr>\n",
       "    <tr>\n",
       "      <th>5</th>\n",
       "      <td>McKEOWN Kaylee</td>\n",
       "      <td>McKEOWN K</td>\n",
       "      <td>Australia</td>\n",
       "      <td>AUS</td>\n",
       "      <td>4</td>\n",
       "    </tr>\n",
       "    <tr>\n",
       "      <th>6</th>\n",
       "      <td>ZHANG Yufei</td>\n",
       "      <td>ZHANG Y</td>\n",
       "      <td>People's Republic of China</td>\n",
       "      <td>CHN</td>\n",
       "      <td>4</td>\n",
       "    </tr>\n",
       "    <tr>\n",
       "      <th>7</th>\n",
       "      <td>XIAO Ruoteng</td>\n",
       "      <td>XIAO R</td>\n",
       "      <td>People's Republic of China</td>\n",
       "      <td>CHN</td>\n",
       "      <td>3</td>\n",
       "    </tr>\n",
       "    <tr>\n",
       "      <th>8</th>\n",
       "      <td>HASHIMOTO Daiki</td>\n",
       "      <td>HASHIMOTO D</td>\n",
       "      <td>Japan</td>\n",
       "      <td>JPN</td>\n",
       "      <td>3</td>\n",
       "    </tr>\n",
       "    <tr>\n",
       "      <th>9</th>\n",
       "      <td>NAGORNYY Nikita</td>\n",
       "      <td>NAGORNYY N</td>\n",
       "      <td>ROC</td>\n",
       "      <td>ROC</td>\n",
       "      <td>3</td>\n",
       "    </tr>\n",
       "  </tbody>\n",
       "</table>\n",
       "</div>"
      ],
      "text/plain": [
       "       athlete_name athlete_short_name                     country  \\\n",
       "0       McKEON Emma           McKEON E                   Australia   \n",
       "1    DRESSEL Caeleb          DRESSEL C    United States of America   \n",
       "2  LEDECKY Kathleen          LEDECKY K    United States of America   \n",
       "3    TITMUS Ariarne           TITMUS A                   Australia   \n",
       "4      SCOTT Duncan            SCOTT D               Great Britain   \n",
       "5    McKEOWN Kaylee          McKEOWN K                   Australia   \n",
       "6       ZHANG Yufei            ZHANG Y  People's Republic of China   \n",
       "7      XIAO Ruoteng             XIAO R  People's Republic of China   \n",
       "8   HASHIMOTO Daiki        HASHIMOTO D                       Japan   \n",
       "9   NAGORNYY Nikita         NAGORNYY N                         ROC   \n",
       "\n",
       "  country_code  qtde  \n",
       "0          AUS     7  \n",
       "1          USA     5  \n",
       "2          USA     4  \n",
       "3          AUS     4  \n",
       "4          GBR     4  \n",
       "5          AUS     4  \n",
       "6          CHN     4  \n",
       "7          CHN     3  \n",
       "8          JPN     3  \n",
       "9          ROC     3  "
      ]
     },
     "execution_count": 447,
     "metadata": {},
     "output_type": "execute_result"
    }
   ],
   "source": [
    "sql = '''SELECT athlete_name, athlete_short_name, country, country_code, count(*) qtde\n",
    "        FROM medals_df\n",
    "        group by athlete_name, athlete_short_name, country, country_code\n",
    "        order by count(*) desc\n",
    "        limit 10'''\n",
    "df3 = pd.read_sql(sql, db)\n",
    "df3"
   ]
  },
  {
   "cell_type": "code",
   "execution_count": 449,
   "metadata": {},
   "outputs": [
    {
     "name": "stdout",
     "output_type": "stream",
     "text": [
      "A atleta que mais ganhou medalhas foi McKEON Emma da Australia, conquistando 7 prêmios.\n"
     ]
    }
   ],
   "source": [
    "print(f\"A atleta que mais ganhou medalhas foi {df3['athlete_name'][0]} da {df3['country'][0]}, conquistando {df3['qtde'][0]} prêmios.\")"
   ]
  },
  {
   "cell_type": "code",
   "execution_count": 457,
   "metadata": {},
   "outputs": [
    {
     "name": "stdout",
     "output_type": "stream",
     "text": [
      "   qtde\n",
      "0   182\n",
      "\n",
      "\n",
      " 182 atletas ganharam mais de uma medalha\n"
     ]
    }
   ],
   "source": [
    "sql = '''SELECT count(*) qtde\n",
    "        FROM(SELECT athlete_name, athlete_short_name, country, country_code, count(*) qtde\n",
    "        FROM medals_df\n",
    "        group by athlete_name, athlete_short_name, country, country_code\n",
    "        having count(*) > 1\n",
    "        order by count(*) desc) a\n",
    "        '''\n",
    "df4 = pd.read_sql(sql, db)\n",
    "print(df4)\n",
    "print(f\"\\n\\n {df4['qtde'][0]} atletas ganharam mais de uma medalha\")"
   ]
  },
  {
   "cell_type": "markdown",
   "metadata": {},
   "source": [
    "<b><font size=5>3. Qual a distribuição das alturas dos jogadores de basquete dos países que ganharam medalhas?? </font></b>"
   ]
  },
  {
   "cell_type": "code",
   "execution_count": 460,
   "metadata": {},
   "outputs": [],
   "source": [
    "#Vamos primeiro verificar se temos alturas nulas para esses atletas\n",
    "\n",
    "sql = '''SELECT mdf.country, mdf.country_code, medal_code, gender, height_m\n",
    "        FROM medals_df mdf \n",
    "        inner join athletes_df adf on mdf.country_code = adf.country_code and mdf.athlete_name = adf.name\n",
    "        where mdf.discipline = 'Basketball'\n",
    "          and height_m is null\n",
    "        order by gender, medal_code'''\n",
    "df = pd.read_sql(sql, db, index_col='country_code')\n",
    "\n",
    "#Não temos alturas nulas"
   ]
  },
  {
   "cell_type": "code",
   "execution_count": 461,
   "metadata": {},
   "outputs": [
    {
     "data": {
      "text/html": [
       "<div>\n",
       "<style scoped>\n",
       "    .dataframe tbody tr th:only-of-type {\n",
       "        vertical-align: middle;\n",
       "    }\n",
       "\n",
       "    .dataframe tbody tr th {\n",
       "        vertical-align: top;\n",
       "    }\n",
       "\n",
       "    .dataframe thead th {\n",
       "        text-align: right;\n",
       "    }\n",
       "</style>\n",
       "<table border=\"1\" class=\"dataframe\">\n",
       "  <thead>\n",
       "    <tr style=\"text-align: right;\">\n",
       "      <th></th>\n",
       "      <th>country</th>\n",
       "      <th>medal_code</th>\n",
       "      <th>gender</th>\n",
       "      <th>qtde_atletas</th>\n",
       "      <th>altura_media</th>\n",
       "      <th>altura_max</th>\n",
       "      <th>altura_min</th>\n",
       "    </tr>\n",
       "    <tr>\n",
       "      <th>country_code</th>\n",
       "      <th></th>\n",
       "      <th></th>\n",
       "      <th></th>\n",
       "      <th></th>\n",
       "      <th></th>\n",
       "      <th></th>\n",
       "      <th></th>\n",
       "    </tr>\n",
       "  </thead>\n",
       "  <tbody>\n",
       "    <tr>\n",
       "      <th>USA</th>\n",
       "      <td>United States of America</td>\n",
       "      <td>1</td>\n",
       "      <td>Female</td>\n",
       "      <td>12</td>\n",
       "      <td>1.838333</td>\n",
       "      <td>2.03</td>\n",
       "      <td>1.55</td>\n",
       "    </tr>\n",
       "    <tr>\n",
       "      <th>JPN</th>\n",
       "      <td>Japan</td>\n",
       "      <td>2</td>\n",
       "      <td>Female</td>\n",
       "      <td>12</td>\n",
       "      <td>1.755833</td>\n",
       "      <td>1.85</td>\n",
       "      <td>1.62</td>\n",
       "    </tr>\n",
       "    <tr>\n",
       "      <th>FRA</th>\n",
       "      <td>France</td>\n",
       "      <td>3</td>\n",
       "      <td>Female</td>\n",
       "      <td>12</td>\n",
       "      <td>1.846667</td>\n",
       "      <td>1.97</td>\n",
       "      <td>1.68</td>\n",
       "    </tr>\n",
       "    <tr>\n",
       "      <th>USA</th>\n",
       "      <td>United States of America</td>\n",
       "      <td>1</td>\n",
       "      <td>Male</td>\n",
       "      <td>12</td>\n",
       "      <td>1.996667</td>\n",
       "      <td>2.13</td>\n",
       "      <td>1.91</td>\n",
       "    </tr>\n",
       "    <tr>\n",
       "      <th>FRA</th>\n",
       "      <td>France</td>\n",
       "      <td>2</td>\n",
       "      <td>Male</td>\n",
       "      <td>12</td>\n",
       "      <td>2.016667</td>\n",
       "      <td>2.18</td>\n",
       "      <td>1.78</td>\n",
       "    </tr>\n",
       "    <tr>\n",
       "      <th>AUS</th>\n",
       "      <td>Australia</td>\n",
       "      <td>3</td>\n",
       "      <td>Male</td>\n",
       "      <td>12</td>\n",
       "      <td>1.985000</td>\n",
       "      <td>2.11</td>\n",
       "      <td>1.83</td>\n",
       "    </tr>\n",
       "  </tbody>\n",
       "</table>\n",
       "</div>"
      ],
      "text/plain": [
       "                               country  medal_code  gender  qtde_atletas  \\\n",
       "country_code                                                               \n",
       "USA           United States of America           1  Female            12   \n",
       "JPN                              Japan           2  Female            12   \n",
       "FRA                             France           3  Female            12   \n",
       "USA           United States of America           1    Male            12   \n",
       "FRA                             France           2    Male            12   \n",
       "AUS                          Australia           3    Male            12   \n",
       "\n",
       "              altura_media  altura_max  altura_min  \n",
       "country_code                                        \n",
       "USA               1.838333        2.03        1.55  \n",
       "JPN               1.755833        1.85        1.62  \n",
       "FRA               1.846667        1.97        1.68  \n",
       "USA               1.996667        2.13        1.91  \n",
       "FRA               2.016667        2.18        1.78  \n",
       "AUS               1.985000        2.11        1.83  "
      ]
     },
     "execution_count": 461,
     "metadata": {},
     "output_type": "execute_result"
    }
   ],
   "source": [
    "#altura dos jogadores de basquete dos países que ganharam medalhas\n",
    "\n",
    "sql = '''SELECT mdf.country, mdf.country_code, medal_code, gender, count(*) as qtde_atletas, avg(height_m) as altura_media, max(height_m) altura_max, min(height_m) altura_min\n",
    "        FROM medals_df mdf \n",
    "        inner join athletes_df adf on mdf.country_code = adf.country_code and mdf.athlete_name = adf.name\n",
    "        where mdf.discipline = 'Basketball'\n",
    "        group by mdf.country, mdf.country_code, medal_code, gender\n",
    "        order by gender, medal_code'''\n",
    "df = pd.read_sql(sql, db, index_col='country_code')\n",
    "df"
   ]
  },
  {
   "cell_type": "code",
   "execution_count": 462,
   "metadata": {},
   "outputs": [
    {
     "data": {
      "text/html": [
       "<div>\n",
       "<style scoped>\n",
       "    .dataframe tbody tr th:only-of-type {\n",
       "        vertical-align: middle;\n",
       "    }\n",
       "\n",
       "    .dataframe tbody tr th {\n",
       "        vertical-align: top;\n",
       "    }\n",
       "\n",
       "    .dataframe thead th {\n",
       "        text-align: right;\n",
       "    }\n",
       "</style>\n",
       "<table border=\"1\" class=\"dataframe\">\n",
       "  <thead>\n",
       "    <tr style=\"text-align: right;\">\n",
       "      <th></th>\n",
       "      <th>team</th>\n",
       "      <th>quartil</th>\n",
       "      <th>valor</th>\n",
       "    </tr>\n",
       "  </thead>\n",
       "  <tbody>\n",
       "    <tr>\n",
       "      <th>0</th>\n",
       "      <td>1 . United States of America - Female</td>\n",
       "      <td>1</td>\n",
       "      <td>1.75</td>\n",
       "    </tr>\n",
       "    <tr>\n",
       "      <th>1</th>\n",
       "      <td>1 . United States of America - Female</td>\n",
       "      <td>2</td>\n",
       "      <td>1.86</td>\n",
       "    </tr>\n",
       "    <tr>\n",
       "      <th>2</th>\n",
       "      <td>1 . United States of America - Female</td>\n",
       "      <td>3</td>\n",
       "      <td>1.93</td>\n",
       "    </tr>\n",
       "    <tr>\n",
       "      <th>3</th>\n",
       "      <td>1 . United States of America - Male</td>\n",
       "      <td>1</td>\n",
       "      <td>1.96</td>\n",
       "    </tr>\n",
       "    <tr>\n",
       "      <th>4</th>\n",
       "      <td>1 . United States of America - Male</td>\n",
       "      <td>2</td>\n",
       "      <td>2.00</td>\n",
       "    </tr>\n",
       "    <tr>\n",
       "      <th>5</th>\n",
       "      <td>1 . United States of America - Male</td>\n",
       "      <td>3</td>\n",
       "      <td>2.05</td>\n",
       "    </tr>\n",
       "    <tr>\n",
       "      <th>6</th>\n",
       "      <td>2 . France - Male</td>\n",
       "      <td>1</td>\n",
       "      <td>1.98</td>\n",
       "    </tr>\n",
       "    <tr>\n",
       "      <th>7</th>\n",
       "      <td>2 . France - Male</td>\n",
       "      <td>2</td>\n",
       "      <td>2.03</td>\n",
       "    </tr>\n",
       "    <tr>\n",
       "      <th>8</th>\n",
       "      <td>2 . France - Male</td>\n",
       "      <td>3</td>\n",
       "      <td>2.13</td>\n",
       "    </tr>\n",
       "    <tr>\n",
       "      <th>9</th>\n",
       "      <td>2 . Japan - Female</td>\n",
       "      <td>1</td>\n",
       "      <td>1.67</td>\n",
       "    </tr>\n",
       "    <tr>\n",
       "      <th>10</th>\n",
       "      <td>2 . Japan - Female</td>\n",
       "      <td>2</td>\n",
       "      <td>1.81</td>\n",
       "    </tr>\n",
       "    <tr>\n",
       "      <th>11</th>\n",
       "      <td>2 . Japan - Female</td>\n",
       "      <td>3</td>\n",
       "      <td>1.83</td>\n",
       "    </tr>\n",
       "    <tr>\n",
       "      <th>12</th>\n",
       "      <td>3 . Australia - Male</td>\n",
       "      <td>1</td>\n",
       "      <td>1.92</td>\n",
       "    </tr>\n",
       "    <tr>\n",
       "      <th>13</th>\n",
       "      <td>3 . Australia - Male</td>\n",
       "      <td>2</td>\n",
       "      <td>1.98</td>\n",
       "    </tr>\n",
       "    <tr>\n",
       "      <th>14</th>\n",
       "      <td>3 . Australia - Male</td>\n",
       "      <td>3</td>\n",
       "      <td>2.07</td>\n",
       "    </tr>\n",
       "    <tr>\n",
       "      <th>15</th>\n",
       "      <td>3 . France - Female</td>\n",
       "      <td>1</td>\n",
       "      <td>1.80</td>\n",
       "    </tr>\n",
       "    <tr>\n",
       "      <th>16</th>\n",
       "      <td>3 . France - Female</td>\n",
       "      <td>2</td>\n",
       "      <td>1.88</td>\n",
       "    </tr>\n",
       "    <tr>\n",
       "      <th>17</th>\n",
       "      <td>3 . France - Female</td>\n",
       "      <td>3</td>\n",
       "      <td>1.93</td>\n",
       "    </tr>\n",
       "  </tbody>\n",
       "</table>\n",
       "</div>"
      ],
      "text/plain": [
       "                                     team  quartil  valor\n",
       "0   1 . United States of America - Female        1   1.75\n",
       "1   1 . United States of America - Female        2   1.86\n",
       "2   1 . United States of America - Female        3   1.93\n",
       "3     1 . United States of America - Male        1   1.96\n",
       "4     1 . United States of America - Male        2   2.00\n",
       "5     1 . United States of America - Male        3   2.05\n",
       "6                       2 . France - Male        1   1.98\n",
       "7                       2 . France - Male        2   2.03\n",
       "8                       2 . France - Male        3   2.13\n",
       "9                      2 . Japan - Female        1   1.67\n",
       "10                     2 . Japan - Female        2   1.81\n",
       "11                     2 . Japan - Female        3   1.83\n",
       "12                   3 . Australia - Male        1   1.92\n",
       "13                   3 . Australia - Male        2   1.98\n",
       "14                   3 . Australia - Male        3   2.07\n",
       "15                    3 . France - Female        1   1.80\n",
       "16                    3 . France - Female        2   1.88\n",
       "17                    3 . France - Female        3   1.93"
      ]
     },
     "execution_count": 462,
     "metadata": {},
     "output_type": "execute_result"
    }
   ],
   "source": [
    "#Quartis das alturas dos jogadores de basquete que ganharam medalhas\n",
    "\n",
    "sql = '''SELECT concat(mdf.medal_code, ' . ', mdf.country, ' - ', gender) team, height_m, ntile(4) over (partition by concat(mdf.medal_code, ' . ',mdf.country, ' - ', gender) order by height_m) part_aux\n",
    "        FROM medals_df mdf \n",
    "        inner join athletes_df adf on mdf.country_code = adf.country_code and mdf.athlete_name = adf.name\n",
    "        where mdf.discipline = 'Basketball'\n",
    "        order by concat(mdf.medal_code, ' . ',mdf.country, ' - ', gender), height_m'''\n",
    "df = pd.read_sql(sql, db)\n",
    "\n",
    "sql2 = '''SELECT team, part_aux-1 quartil, min(height_m) valor\n",
    "        from(SELECT concat(mdf.medal_code, ' . ', mdf.country, ' - ', gender) team, height_m, ntile(4) over (partition by concat(mdf.medal_code, ' . ',mdf.country, ' - ', gender) order by height_m) part_aux\n",
    "        FROM medals_df mdf \n",
    "        inner join athletes_df adf on mdf.country_code = adf.country_code and mdf.athlete_name = adf.name\n",
    "        where mdf.discipline = 'Basketball') a\n",
    "        where part_aux <> 1\n",
    "        group by team, part_aux\n",
    "        '''\n",
    "\n",
    "df2 = pd.read_sql(sql2, db)\n",
    "df2 "
   ]
  },
  {
   "cell_type": "code",
   "execution_count": 463,
   "metadata": {},
   "outputs": [
    {
     "data": {
      "image/png": "[encoded data removed]",
      "text/plain": [
       "<Figure size 1152x595.44 with 1 Axes>"
      ]
     },
     "metadata": {
      "needs_background": "light"
     },
     "output_type": "display_data"
    }
   ],
   "source": [
    "a = sns.catplot(x='team', y='height_m',kind=\"box\", palette=\"ch:.25\", data = df, height=8.27, aspect=16/8.27)"
   ]
  },
  {
   "cell_type": "markdown",
   "metadata": {},
   "source": [
    "<b><font size=5>4. Qual a idade média dos atletas dos 10 paíeses que mais ganharam medalhas? E qual a idade média apenas dos atletas que ganharam medalhas desses mesmos países?</font></b>"
   ]
  },
  {
   "cell_type": "code",
   "execution_count": 63,
   "metadata": {},
   "outputs": [
    {
     "data": {
      "text/html": [
       "<div>\n",
       "<style scoped>\n",
       "    .dataframe tbody tr th:only-of-type {\n",
       "        vertical-align: middle;\n",
       "    }\n",
       "\n",
       "    .dataframe tbody tr th {\n",
       "        vertical-align: top;\n",
       "    }\n",
       "\n",
       "    .dataframe thead th {\n",
       "        text-align: right;\n",
       "    }\n",
       "</style>\n",
       "<table border=\"1\" class=\"dataframe\">\n",
       "  <thead>\n",
       "    <tr style=\"text-align: right;\">\n",
       "      <th></th>\n",
       "      <th>idade_media</th>\n",
       "      <th>qtde_atletas</th>\n",
       "    </tr>\n",
       "    <tr>\n",
       "      <th>country_code</th>\n",
       "      <th></th>\n",
       "      <th></th>\n",
       "    </tr>\n",
       "  </thead>\n",
       "  <tbody>\n",
       "    <tr>\n",
       "      <th>USA</th>\n",
       "      <td>27.777585</td>\n",
       "      <td>633</td>\n",
       "    </tr>\n",
       "    <tr>\n",
       "      <th>CHN</th>\n",
       "      <td>26.095097</td>\n",
       "      <td>418</td>\n",
       "    </tr>\n",
       "    <tr>\n",
       "      <th>JPN</th>\n",
       "      <td>26.982766</td>\n",
       "      <td>613</td>\n",
       "    </tr>\n",
       "    <tr>\n",
       "      <th>GBR</th>\n",
       "      <td>27.482969</td>\n",
       "      <td>392</td>\n",
       "    </tr>\n",
       "    <tr>\n",
       "      <th>ROC</th>\n",
       "      <td>27.192120</td>\n",
       "      <td>341</td>\n",
       "    </tr>\n",
       "    <tr>\n",
       "      <th>AUS</th>\n",
       "      <td>27.451834</td>\n",
       "      <td>489</td>\n",
       "    </tr>\n",
       "    <tr>\n",
       "      <th>NED</th>\n",
       "      <td>28.339972</td>\n",
       "      <td>283</td>\n",
       "    </tr>\n",
       "    <tr>\n",
       "      <th>FRA</th>\n",
       "      <td>27.857005</td>\n",
       "      <td>396</td>\n",
       "    </tr>\n",
       "    <tr>\n",
       "      <th>GER</th>\n",
       "      <td>27.827735</td>\n",
       "      <td>415</td>\n",
       "    </tr>\n",
       "    <tr>\n",
       "      <th>ITA</th>\n",
       "      <td>27.370153</td>\n",
       "      <td>379</td>\n",
       "    </tr>\n",
       "  </tbody>\n",
       "</table>\n",
       "</div>"
      ],
      "text/plain": [
       "              idade_media  qtde_atletas\n",
       "country_code                           \n",
       "USA             27.777585           633\n",
       "CHN             26.095097           418\n",
       "JPN             26.982766           613\n",
       "GBR             27.482969           392\n",
       "ROC             27.192120           341\n",
       "AUS             27.451834           489\n",
       "NED             28.339972           283\n",
       "FRA             27.857005           396\n",
       "GER             27.827735           415\n",
       "ITA             27.370153           379"
      ]
     },
     "execution_count": 63,
     "metadata": {},
     "output_type": "execute_result"
    }
   ],
   "source": [
    "sql = '''SELECT mtdf.country_code, avg(1.0*datediff('2021-08-05', birth_date)/365) idade_media, count(distinct name) qtde_atletas\n",
    "        FROM medals_total_df mtdf \n",
    "        inner join athletes_df adf on mtdf.country_code = adf.country_code\n",
    "        group by mtdf.country_code\n",
    "        order by rank_country\n",
    "        limit 10'''\n",
    "df = pd.read_sql(sql, db, index_col='country_code')\n",
    "df"
   ]
  },
  {
   "cell_type": "code",
   "execution_count": 64,
   "metadata": {},
   "outputs": [
    {
     "data": {
      "text/html": [
       "<div>\n",
       "<style scoped>\n",
       "    .dataframe tbody tr th:only-of-type {\n",
       "        vertical-align: middle;\n",
       "    }\n",
       "\n",
       "    .dataframe tbody tr th {\n",
       "        vertical-align: top;\n",
       "    }\n",
       "\n",
       "    .dataframe thead th {\n",
       "        text-align: right;\n",
       "    }\n",
       "</style>\n",
       "<table border=\"1\" class=\"dataframe\">\n",
       "  <thead>\n",
       "    <tr style=\"text-align: right;\">\n",
       "      <th></th>\n",
       "      <th>idade_media</th>\n",
       "      <th>qtde_atletas</th>\n",
       "    </tr>\n",
       "    <tr>\n",
       "      <th>country_code</th>\n",
       "      <th></th>\n",
       "      <th></th>\n",
       "    </tr>\n",
       "  </thead>\n",
       "  <tbody>\n",
       "    <tr>\n",
       "      <th>USA</th>\n",
       "      <td>27.017934</td>\n",
       "      <td>257</td>\n",
       "    </tr>\n",
       "    <tr>\n",
       "      <th>CHN</th>\n",
       "      <td>26.165049</td>\n",
       "      <td>114</td>\n",
       "    </tr>\n",
       "    <tr>\n",
       "      <th>JPN</th>\n",
       "      <td>26.402908</td>\n",
       "      <td>114</td>\n",
       "    </tr>\n",
       "    <tr>\n",
       "      <th>GBR</th>\n",
       "      <td>27.396207</td>\n",
       "      <td>112</td>\n",
       "    </tr>\n",
       "    <tr>\n",
       "      <th>ROC</th>\n",
       "      <td>26.914807</td>\n",
       "      <td>128</td>\n",
       "    </tr>\n",
       "    <tr>\n",
       "      <th>AUS</th>\n",
       "      <td>26.889872</td>\n",
       "      <td>99</td>\n",
       "    </tr>\n",
       "    <tr>\n",
       "      <th>NED</th>\n",
       "      <td>28.425020</td>\n",
       "      <td>62</td>\n",
       "    </tr>\n",
       "    <tr>\n",
       "      <th>FRA</th>\n",
       "      <td>28.815485</td>\n",
       "      <td>130</td>\n",
       "    </tr>\n",
       "    <tr>\n",
       "      <th>GER</th>\n",
       "      <td>29.201027</td>\n",
       "      <td>71</td>\n",
       "    </tr>\n",
       "    <tr>\n",
       "      <th>ITA</th>\n",
       "      <td>27.366539</td>\n",
       "      <td>65</td>\n",
       "    </tr>\n",
       "  </tbody>\n",
       "</table>\n",
       "</div>"
      ],
      "text/plain": [
       "              idade_media  qtde_atletas\n",
       "country_code                           \n",
       "USA             27.017934           257\n",
       "CHN             26.165049           114\n",
       "JPN             26.402908           114\n",
       "GBR             27.396207           112\n",
       "ROC             26.914807           128\n",
       "AUS             26.889872            99\n",
       "NED             28.425020            62\n",
       "FRA             28.815485           130\n",
       "GER             29.201027            71\n",
       "ITA             27.366539            65"
      ]
     },
     "execution_count": 64,
     "metadata": {},
     "output_type": "execute_result"
    }
   ],
   "source": [
    "sql = '''SELECT mtdf.country_code, avg(1.0*datediff('2021-08-05', birth_date)/365) idade_media, count(distinct athlete_name) qtde_atletas\n",
    "        FROM medals_total_df mtdf \n",
    "        inner join medals_df mdf on mtdf.country_code = mdf.country_code\n",
    "        inner join athletes_df adf on mtdf.country_code = adf.country_code and mdf.athlete_name = adf.name\n",
    "        group by mtdf.country_code\n",
    "        order by rank_country\n",
    "        limit 10'''\n",
    "df = pd.read_sql(sql, db, index_col='country_code')\n",
    "df"
   ]
  },
  {
   "cell_type": "markdown",
   "metadata": {},
   "source": [
    "<b><font size=5>5. Qual o atleta mais velho e o mais novo a ganhar uma medalha?</font></b>"
   ]
  },
  {
   "cell_type": "code",
   "execution_count": 464,
   "metadata": {},
   "outputs": [
    {
     "data": {
      "text/html": [
       "<div>\n",
       "<style scoped>\n",
       "    .dataframe tbody tr th:only-of-type {\n",
       "        vertical-align: middle;\n",
       "    }\n",
       "\n",
       "    .dataframe tbody tr th {\n",
       "        vertical-align: top;\n",
       "    }\n",
       "\n",
       "    .dataframe thead th {\n",
       "        text-align: right;\n",
       "    }\n",
       "</style>\n",
       "<table border=\"1\" class=\"dataframe\">\n",
       "  <thead>\n",
       "    <tr style=\"text-align: right;\">\n",
       "      <th></th>\n",
       "      <th>name</th>\n",
       "      <th>short_name</th>\n",
       "      <th>discipline</th>\n",
       "      <th>idade</th>\n",
       "    </tr>\n",
       "    <tr>\n",
       "      <th>country_code</th>\n",
       "      <th></th>\n",
       "      <th></th>\n",
       "      <th></th>\n",
       "      <th></th>\n",
       "    </tr>\n",
       "  </thead>\n",
       "  <tbody>\n",
       "    <tr>\n",
       "      <th>AUS</th>\n",
       "      <td>HOY Andrew</td>\n",
       "      <td>HOY A</td>\n",
       "      <td>Equestrian</td>\n",
       "      <td>62.52329</td>\n",
       "    </tr>\n",
       "  </tbody>\n",
       "</table>\n",
       "</div>"
      ],
      "text/plain": [
       "                    name short_name  discipline     idade\n",
       "country_code                                             \n",
       "AUS           HOY Andrew      HOY A  Equestrian  62.52329"
      ]
     },
     "execution_count": 464,
     "metadata": {},
     "output_type": "execute_result"
    }
   ],
   "source": [
    "sql = '''SELECT adf.name, adf.short_name, mdf.country_code, mdf.discipline, 1.0*datediff(medal_date, birth_date)/365 idade\n",
    "        FROM medals_df mdf \n",
    "        inner join athletes_df adf on mdf.country_code = adf.country_code and mdf.athlete_name = adf.name\n",
    "        where medal_date is not null\n",
    "          and birth_date is not null\n",
    "        order by 1.0*datediff(medal_date, birth_date)/365 desc\n",
    "        limit 1'''\n",
    "df5 = pd.read_sql(sql, db, index_col='country_code')\n",
    "df5"
   ]
  },
  {
   "cell_type": "code",
   "execution_count": 465,
   "metadata": {},
   "outputs": [
    {
     "data": {
      "text/html": [
       "<div>\n",
       "<style scoped>\n",
       "    .dataframe tbody tr th:only-of-type {\n",
       "        vertical-align: middle;\n",
       "    }\n",
       "\n",
       "    .dataframe tbody tr th {\n",
       "        vertical-align: top;\n",
       "    }\n",
       "\n",
       "    .dataframe thead th {\n",
       "        text-align: right;\n",
       "    }\n",
       "</style>\n",
       "<table border=\"1\" class=\"dataframe\">\n",
       "  <thead>\n",
       "    <tr style=\"text-align: right;\">\n",
       "      <th></th>\n",
       "      <th>name</th>\n",
       "      <th>short_name</th>\n",
       "      <th>discipline</th>\n",
       "      <th>idade</th>\n",
       "    </tr>\n",
       "    <tr>\n",
       "      <th>country_code</th>\n",
       "      <th></th>\n",
       "      <th></th>\n",
       "      <th></th>\n",
       "      <th></th>\n",
       "    </tr>\n",
       "  </thead>\n",
       "  <tbody>\n",
       "    <tr>\n",
       "      <th>JPN</th>\n",
       "      <td>HIRAKI Kokona</td>\n",
       "      <td>HIRAKI K</td>\n",
       "      <td>Skateboarding</td>\n",
       "      <td>12.94795</td>\n",
       "    </tr>\n",
       "  </tbody>\n",
       "</table>\n",
       "</div>"
      ],
      "text/plain": [
       "                       name short_name     discipline     idade\n",
       "country_code                                                   \n",
       "JPN           HIRAKI Kokona   HIRAKI K  Skateboarding  12.94795"
      ]
     },
     "execution_count": 465,
     "metadata": {},
     "output_type": "execute_result"
    }
   ],
   "source": [
    "sql = '''SELECT adf.name, adf.short_name, mdf.country_code, mdf.discipline, 1.0*datediff(medal_date, birth_date)/365 idade\n",
    "        FROM medals_df mdf \n",
    "        inner join athletes_df adf on mdf.country_code = adf.country_code and mdf.athlete_name = adf.name\n",
    "        where medal_date is not null\n",
    "          and birth_date is not null\n",
    "        order by 1.0*datediff(medal_date, birth_date)/365 asc\n",
    "        limit 1'''\n",
    "df6 = pd.read_sql(sql, db, index_col='country_code')\n",
    "df6"
   ]
  },
  {
   "cell_type": "code",
   "execution_count": 467,
   "metadata": {},
   "outputs": [
    {
     "name": "stdout",
     "output_type": "stream",
     "text": [
      "O atleta mais velho a ganhar medalhas foi o HOY Andrew com 62.52329 anos, enquanto o mais novo foi o HIRAKI Kokona com 12.94795 anos\n"
     ]
    }
   ],
   "source": [
    "print(f\"O atleta mais velho a ganhar medalhas foi o {df5['name'][0]} com {df5['idade'][0]} anos, enquanto o mais novo foi o {df6['name'][0]} com {df6['idade'][0]} anos\")"
   ]
  },
  {
   "cell_type": "markdown",
   "metadata": {},
   "source": [
    "<b><font size=5>6. Quais modalidades possuem mais categorias distintas? E quis são disputada por atletas de mais paises diferentes?</font></b>"
   ]
  },
  {
   "cell_type": "code",
   "execution_count": 468,
   "metadata": {},
   "outputs": [
    {
     "data": {
      "text/html": [
       "<div>\n",
       "<style scoped>\n",
       "    .dataframe tbody tr th:only-of-type {\n",
       "        vertical-align: middle;\n",
       "    }\n",
       "\n",
       "    .dataframe tbody tr th {\n",
       "        vertical-align: top;\n",
       "    }\n",
       "\n",
       "    .dataframe thead th {\n",
       "        text-align: right;\n",
       "    }\n",
       "</style>\n",
       "<table border=\"1\" class=\"dataframe\">\n",
       "  <thead>\n",
       "    <tr style=\"text-align: right;\">\n",
       "      <th></th>\n",
       "      <th>discipline</th>\n",
       "      <th>qtde_cat</th>\n",
       "    </tr>\n",
       "  </thead>\n",
       "  <tbody>\n",
       "    <tr>\n",
       "      <th>0</th>\n",
       "      <td>Athletics</td>\n",
       "      <td>48</td>\n",
       "    </tr>\n",
       "    <tr>\n",
       "      <th>1</th>\n",
       "      <td>Swimming</td>\n",
       "      <td>35</td>\n",
       "    </tr>\n",
       "    <tr>\n",
       "      <th>2</th>\n",
       "      <td>Wrestling</td>\n",
       "      <td>18</td>\n",
       "    </tr>\n",
       "    <tr>\n",
       "      <th>3</th>\n",
       "      <td>Shooting</td>\n",
       "      <td>15</td>\n",
       "    </tr>\n",
       "    <tr>\n",
       "      <th>4</th>\n",
       "      <td>Judo</td>\n",
       "      <td>15</td>\n",
       "    </tr>\n",
       "    <tr>\n",
       "      <th>5</th>\n",
       "      <td>Artistic Gymnastics</td>\n",
       "      <td>14</td>\n",
       "    </tr>\n",
       "    <tr>\n",
       "      <th>6</th>\n",
       "      <td>Weightlifting</td>\n",
       "      <td>14</td>\n",
       "    </tr>\n",
       "    <tr>\n",
       "      <th>7</th>\n",
       "      <td>Rowing</td>\n",
       "      <td>14</td>\n",
       "    </tr>\n",
       "    <tr>\n",
       "      <th>8</th>\n",
       "      <td>Boxing</td>\n",
       "      <td>13</td>\n",
       "    </tr>\n",
       "    <tr>\n",
       "      <th>9</th>\n",
       "      <td>Cycling Track</td>\n",
       "      <td>12</td>\n",
       "    </tr>\n",
       "  </tbody>\n",
       "</table>\n",
       "</div>"
      ],
      "text/plain": [
       "            discipline  qtde_cat\n",
       "0            Athletics        48\n",
       "1             Swimming        35\n",
       "2            Wrestling        18\n",
       "3             Shooting        15\n",
       "4                 Judo        15\n",
       "5  Artistic Gymnastics        14\n",
       "6        Weightlifting        14\n",
       "7               Rowing        14\n",
       "8               Boxing        13\n",
       "9        Cycling Track        12"
      ]
     },
     "execution_count": 468,
     "metadata": {},
     "output_type": "execute_result"
    }
   ],
   "source": [
    "sql = '''SELECT discipline\n",
    "        ,count(distinct event_name) qtde_cat\n",
    "        FROM medals_df mdf\n",
    "        group by discipline\n",
    "        order by count(distinct event_name) desc\n",
    "        limit 10'''\n",
    "df = pd.read_sql(sql, db, index_col='discipline')\n",
    "df = df.reset_index()\n",
    "df"
   ]
  },
  {
   "cell_type": "code",
   "execution_count": 196,
   "metadata": {},
   "outputs": [
    {
     "data": {
      "text/plain": [
       "<seaborn.axisgrid.FacetGrid at 0x7fd7865d4fa0>"
      ]
     },
     "execution_count": 196,
     "metadata": {},
     "output_type": "execute_result"
    },
    {
     "data": {
      "image/png": "[encoded data removed]",
      "text/plain": [
       "<Figure size 842.4x595.44 with 1 Axes>"
      ]
     },
     "metadata": {
      "needs_background": "light"
     },
     "output_type": "display_data"
    }
   ],
   "source": [
    "sns.catplot(y='discipline', x='qtde_cat', kind=\"bar\", palette=\"ch:.25\", data = df, height=8.27, aspect=11.7/8.27)"
   ]
  },
  {
   "cell_type": "code",
   "execution_count": 197,
   "metadata": {},
   "outputs": [
    {
     "data": {
      "text/html": [
       "<div>\n",
       "<style scoped>\n",
       "    .dataframe tbody tr th:only-of-type {\n",
       "        vertical-align: middle;\n",
       "    }\n",
       "\n",
       "    .dataframe tbody tr th {\n",
       "        vertical-align: top;\n",
       "    }\n",
       "\n",
       "    .dataframe thead th {\n",
       "        text-align: right;\n",
       "    }\n",
       "</style>\n",
       "<table border=\"1\" class=\"dataframe\">\n",
       "  <thead>\n",
       "    <tr style=\"text-align: right;\">\n",
       "      <th></th>\n",
       "      <th>discipline</th>\n",
       "      <th>qtde_paises</th>\n",
       "    </tr>\n",
       "  </thead>\n",
       "  <tbody>\n",
       "    <tr>\n",
       "      <th>0</th>\n",
       "      <td>Athletics</td>\n",
       "      <td>197</td>\n",
       "    </tr>\n",
       "    <tr>\n",
       "      <th>1</th>\n",
       "      <td>Swimming</td>\n",
       "      <td>182</td>\n",
       "    </tr>\n",
       "    <tr>\n",
       "      <th>2</th>\n",
       "      <td>Judo</td>\n",
       "      <td>128</td>\n",
       "    </tr>\n",
       "    <tr>\n",
       "      <th>3</th>\n",
       "      <td>Shooting</td>\n",
       "      <td>100</td>\n",
       "    </tr>\n",
       "    <tr>\n",
       "      <th>4</th>\n",
       "      <td>Boxing</td>\n",
       "      <td>81</td>\n",
       "    </tr>\n",
       "    <tr>\n",
       "      <th>5</th>\n",
       "      <td>Rowing</td>\n",
       "      <td>79</td>\n",
       "    </tr>\n",
       "    <tr>\n",
       "      <th>6</th>\n",
       "      <td>Weightlifting</td>\n",
       "      <td>77</td>\n",
       "    </tr>\n",
       "    <tr>\n",
       "      <th>7</th>\n",
       "      <td>Cycling Road</td>\n",
       "      <td>66</td>\n",
       "    </tr>\n",
       "    <tr>\n",
       "      <th>8</th>\n",
       "      <td>Sailing</td>\n",
       "      <td>65</td>\n",
       "    </tr>\n",
       "    <tr>\n",
       "      <th>9</th>\n",
       "      <td>Wrestling</td>\n",
       "      <td>61</td>\n",
       "    </tr>\n",
       "  </tbody>\n",
       "</table>\n",
       "</div>"
      ],
      "text/plain": [
       "      discipline  qtde_paises\n",
       "0      Athletics          197\n",
       "1       Swimming          182\n",
       "2           Judo          128\n",
       "3       Shooting          100\n",
       "4         Boxing           81\n",
       "5         Rowing           79\n",
       "6  Weightlifting           77\n",
       "7   Cycling Road           66\n",
       "8        Sailing           65\n",
       "9      Wrestling           61"
      ]
     },
     "execution_count": 197,
     "metadata": {},
     "output_type": "execute_result"
    }
   ],
   "source": [
    "sql = '''SELECT adf.discipline\n",
    "        ,count(distinct adf.country_code) qtde_paises\n",
    "        FROM athletes_df adf \n",
    "        group by adf.discipline\n",
    "        order by count(distinct adf.country_code) desc\n",
    "        limit 10'''\n",
    "df = pd.read_sql(sql, db, index_col='discipline')\n",
    "df = df.reset_index()\n",
    "df"
   ]
  },
  {
   "cell_type": "code",
   "execution_count": 198,
   "metadata": {},
   "outputs": [
    {
     "data": {
      "text/plain": [
       "<seaborn.axisgrid.FacetGrid at 0x7fd7865bac70>"
      ]
     },
     "execution_count": 198,
     "metadata": {},
     "output_type": "execute_result"
    },
    {
     "data": {
      "image/png": "[encoded data removed]",
      "text/plain": [
       "<Figure size 842.4x595.44 with 1 Axes>"
      ]
     },
     "metadata": {
      "needs_background": "light"
     },
     "output_type": "display_data"
    }
   ],
   "source": [
    "sns.catplot(y='discipline', x='qtde_paises', kind=\"bar\", palette=\"ch:.25\", data = df, height=8.27, aspect=11.7/8.27)"
   ]
  },
  {
   "cell_type": "markdown",
   "metadata": {},
   "source": [
    "<b><font size=5>7. Qual a porcentagem de equipes femininas que são comandadas por homens? E de equipes masculinas comandadas por mulheres?</font></b>"
   ]
  },
  {
   "cell_type": "code",
   "execution_count": 488,
   "metadata": {},
   "outputs": [
    {
     "data": {
      "text/html": [
       "<div>\n",
       "<style scoped>\n",
       "    .dataframe tbody tr th:only-of-type {\n",
       "        vertical-align: middle;\n",
       "    }\n",
       "\n",
       "    .dataframe tbody tr th {\n",
       "        vertical-align: top;\n",
       "    }\n",
       "\n",
       "    .dataframe thead th {\n",
       "        text-align: right;\n",
       "    }\n",
       "</style>\n",
       "<table border=\"1\" class=\"dataframe\">\n",
       "  <thead>\n",
       "    <tr style=\"text-align: right;\">\n",
       "      <th>genero_equipe</th>\n",
       "      <th>Female</th>\n",
       "      <th>Male</th>\n",
       "    </tr>\n",
       "  </thead>\n",
       "  <tbody>\n",
       "    <tr>\n",
       "      <th>porcent_dif</th>\n",
       "      <td>0.71196</td>\n",
       "      <td>0.19833</td>\n",
       "    </tr>\n",
       "    <tr>\n",
       "      <th>porcent_igual</th>\n",
       "      <td>0.28804</td>\n",
       "      <td>0.80167</td>\n",
       "    </tr>\n",
       "  </tbody>\n",
       "</table>\n",
       "</div>"
      ],
      "text/plain": [
       "genero_equipe   Female     Male\n",
       "porcent_dif    0.71196  0.19833\n",
       "porcent_igual  0.28804  0.80167"
      ]
     },
     "execution_count": 488,
     "metadata": {},
     "output_type": "execute_result"
    }
   ],
   "source": [
    "sql = '''select genero_equipe, 1.0*sum(genero_diff)/count(*) porcent_dif, 1- 1.0*sum(genero_diff)/count(*) porcent_igual\n",
    "        from(select codf.country_code, codf.discipline, codf.event_name, adf.gender genero_equipe, case when adf.gender = codf.gender then 0 else 1 end genero_diff\n",
    "                from coaches_df codf \n",
    "                inner join medals_df mdf on mdf.country_code = codf.country_code and codf.discipline = mdf.discipline\n",
    "                inner join athletes_df adf on mdf.country_code = adf.country_code and mdf.athlete_name = adf.name\n",
    "                where adf.gender is not null\n",
    "                  and codf.gender is not null ) as a\n",
    "        group by genero_equipe\n",
    "        order by genero_equipe'''\n",
    "df = pd.read_sql(sql, db, index_col='genero_equipe')\n",
    "df2 = df.T\n",
    "df2"
   ]
  },
  {
   "cell_type": "code",
   "execution_count": 489,
   "metadata": {},
   "outputs": [
    {
     "data": {
      "image/png": "[encoded data removed]",
      "text/plain": [
       "<Figure size 1152x576 with 2 Axes>"
      ]
     },
     "metadata": {},
     "output_type": "display_data"
    }
   ],
   "source": [
    "ax = df2.plot.pie(subplots=True, figsize=(16, 8), legend=None, autopct='%.2f%%',  colors = ['purple', 'thistle'] )\n"
   ]
  },
  {
   "cell_type": "markdown",
   "metadata": {},
   "source": [
    "Enquanto 71% das equipes femininas são comandadas por homens, apenas 19% das equipes masculinas são comandadas por mulheres."
   ]
  },
  {
   "cell_type": "markdown",
   "metadata": {},
   "source": [
    "<b><font size=5>8. Qual o tamanho da delegação brasileira considerando atletas, técnicos e equipes técnicas?</font></b>"
   ]
  },
  {
   "cell_type": "code",
   "execution_count": 507,
   "metadata": {},
   "outputs": [
    {
     "name": "stdout",
     "output_type": "stream",
     "text": [
      "   qtde\n",
      "0   341\n",
      "\n",
      "\n",
      " A delegação brasileira possui 341 integrantes \n"
     ]
    }
   ],
   "source": [
    "sql = '''select count(*) qtde\n",
    "        from(\n",
    "            select distinct name, short_name, discipline\n",
    "            from(\n",
    "                select name, short_name, discipline\n",
    "                from coaches_df cdf\n",
    "                where country_code = 'BRA'\n",
    "                union all\n",
    "                select name, short_name, discipline\n",
    "                from athletes_df cdf\n",
    "                where country_code = 'BRA'\n",
    "                union all\n",
    "                select name, short_name, discipline\n",
    "                from technical_officials_df\n",
    "                where country = 'BRAZIL'\n",
    "            ) a\n",
    "        ) b\n",
    "        '''\n",
    "df7 = pd.read_sql(sql, db)\n",
    "print(df7)\n",
    "\n",
    "print(f\"\\n\\n A delegação brasileira possui {df7['qtde'][0]} integrantes \")\n"
   ]
  },
  {
   "cell_type": "markdown",
   "metadata": {},
   "source": [
    "<b><font size=5>9. Qual país que possui a maior equipe técnica no voleibol? Quais países ganharam medalha nesse esporte?</font></b>"
   ]
  },
  {
   "cell_type": "code",
   "execution_count": 307,
   "metadata": {},
   "outputs": [
    {
     "data": {
      "text/html": [
       "<div>\n",
       "<style scoped>\n",
       "    .dataframe tbody tr th:only-of-type {\n",
       "        vertical-align: middle;\n",
       "    }\n",
       "\n",
       "    .dataframe tbody tr th {\n",
       "        vertical-align: top;\n",
       "    }\n",
       "\n",
       "    .dataframe thead th {\n",
       "        text-align: right;\n",
       "    }\n",
       "</style>\n",
       "<table border=\"1\" class=\"dataframe\">\n",
       "  <thead>\n",
       "    <tr style=\"text-align: right;\">\n",
       "      <th></th>\n",
       "      <th>discipline</th>\n",
       "      <th>tam_equipe</th>\n",
       "    </tr>\n",
       "    <tr>\n",
       "      <th>country</th>\n",
       "      <th></th>\n",
       "      <th></th>\n",
       "    </tr>\n",
       "  </thead>\n",
       "  <tbody>\n",
       "    <tr>\n",
       "      <th>Japan</th>\n",
       "      <td>Volleyball</td>\n",
       "      <td>74</td>\n",
       "    </tr>\n",
       "    <tr>\n",
       "      <th>Serbia</th>\n",
       "      <td>Volleyball</td>\n",
       "      <td>3</td>\n",
       "    </tr>\n",
       "    <tr>\n",
       "      <th>Italy</th>\n",
       "      <td>Volleyball</td>\n",
       "      <td>3</td>\n",
       "    </tr>\n",
       "    <tr>\n",
       "      <th>Brazil</th>\n",
       "      <td>Volleyball</td>\n",
       "      <td>2</td>\n",
       "    </tr>\n",
       "    <tr>\n",
       "      <th>Argentina</th>\n",
       "      <td>Volleyball</td>\n",
       "      <td>2</td>\n",
       "    </tr>\n",
       "    <tr>\n",
       "      <th>Slovakia</th>\n",
       "      <td>Volleyball</td>\n",
       "      <td>2</td>\n",
       "    </tr>\n",
       "    <tr>\n",
       "      <th>France</th>\n",
       "      <td>Volleyball</td>\n",
       "      <td>2</td>\n",
       "    </tr>\n",
       "    <tr>\n",
       "      <th>Russian Fe</th>\n",
       "      <td>Volleyball</td>\n",
       "      <td>2</td>\n",
       "    </tr>\n",
       "    <tr>\n",
       "      <th>United Sta</th>\n",
       "      <td>Volleyball</td>\n",
       "      <td>1</td>\n",
       "    </tr>\n",
       "    <tr>\n",
       "      <th>Spain</th>\n",
       "      <td>Volleyball</td>\n",
       "      <td>1</td>\n",
       "    </tr>\n",
       "    <tr>\n",
       "      <th>Republic o</th>\n",
       "      <td>Volleyball</td>\n",
       "      <td>1</td>\n",
       "    </tr>\n",
       "    <tr>\n",
       "      <th>Poland</th>\n",
       "      <td>Volleyball</td>\n",
       "      <td>1</td>\n",
       "    </tr>\n",
       "    <tr>\n",
       "      <th>Philippine</th>\n",
       "      <td>Volleyball</td>\n",
       "      <td>1</td>\n",
       "    </tr>\n",
       "    <tr>\n",
       "      <th>People's R</th>\n",
       "      <td>Volleyball</td>\n",
       "      <td>1</td>\n",
       "    </tr>\n",
       "    <tr>\n",
       "      <th>Netherland</th>\n",
       "      <td>Volleyball</td>\n",
       "      <td>1</td>\n",
       "    </tr>\n",
       "    <tr>\n",
       "      <th>Mexico</th>\n",
       "      <td>Volleyball</td>\n",
       "      <td>1</td>\n",
       "    </tr>\n",
       "    <tr>\n",
       "      <th>Latvia</th>\n",
       "      <td>Volleyball</td>\n",
       "      <td>1</td>\n",
       "    </tr>\n",
       "    <tr>\n",
       "      <th>Germany</th>\n",
       "      <td>Volleyball</td>\n",
       "      <td>1</td>\n",
       "    </tr>\n",
       "    <tr>\n",
       "      <th>Dominican</th>\n",
       "      <td>Volleyball</td>\n",
       "      <td>1</td>\n",
       "    </tr>\n",
       "    <tr>\n",
       "      <th>Cuba</th>\n",
       "      <td>Volleyball</td>\n",
       "      <td>1</td>\n",
       "    </tr>\n",
       "  </tbody>\n",
       "</table>\n",
       "</div>"
      ],
      "text/plain": [
       "            discipline  tam_equipe\n",
       "country                           \n",
       "Japan       Volleyball          74\n",
       "Serbia      Volleyball           3\n",
       "Italy       Volleyball           3\n",
       "Brazil      Volleyball           2\n",
       "Argentina   Volleyball           2\n",
       "Slovakia    Volleyball           2\n",
       "France      Volleyball           2\n",
       "Russian Fe  Volleyball           2\n",
       "United Sta  Volleyball           1\n",
       "Spain       Volleyball           1\n",
       "Republic o  Volleyball           1\n",
       "Poland      Volleyball           1\n",
       "Philippine  Volleyball           1\n",
       "People's R  Volleyball           1\n",
       "Netherland  Volleyball           1\n",
       "Mexico      Volleyball           1\n",
       "Latvia      Volleyball           1\n",
       "Germany     Volleyball           1\n",
       "Dominican   Volleyball           1\n",
       "Cuba        Volleyball           1"
      ]
     },
     "execution_count": 307,
     "metadata": {},
     "output_type": "execute_result"
    }
   ],
   "source": [
    "sql = '''select todf.country, todf.discipline\n",
    "         ,count(distinct(concat(todf.name, todf.short_name, todf.discipline, todf.country))) tam_equipe\n",
    "         from technical_officials_df todf\n",
    "         where todf.discipline = 'Volleyball'\n",
    "         group by country, discipline\n",
    "         order by 3 desc\n",
    "         limit 20\n",
    "        '''\n",
    "df = pd.read_sql(sql, db, index_col='country')\n",
    "df"
   ]
  },
  {
   "cell_type": "code",
   "execution_count": 384,
   "metadata": {},
   "outputs": [
    {
     "data": {
      "text/html": [
       "<div>\n",
       "<style scoped>\n",
       "    .dataframe tbody tr th:only-of-type {\n",
       "        vertical-align: middle;\n",
       "    }\n",
       "\n",
       "    .dataframe tbody tr th {\n",
       "        vertical-align: top;\n",
       "    }\n",
       "\n",
       "    .dataframe thead th {\n",
       "        text-align: right;\n",
       "    }\n",
       "</style>\n",
       "<table border=\"1\" class=\"dataframe\">\n",
       "  <thead>\n",
       "    <tr style=\"text-align: right;\">\n",
       "      <th></th>\n",
       "      <th>country</th>\n",
       "      <th>athlete_sex</th>\n",
       "      <th>discipline</th>\n",
       "    </tr>\n",
       "  </thead>\n",
       "  <tbody>\n",
       "    <tr>\n",
       "      <th>0</th>\n",
       "      <td>1.France</td>\n",
       "      <td>M</td>\n",
       "      <td>Volleyball</td>\n",
       "    </tr>\n",
       "    <tr>\n",
       "      <th>1</th>\n",
       "      <td>1.United States of America</td>\n",
       "      <td>W</td>\n",
       "      <td>Volleyball</td>\n",
       "    </tr>\n",
       "    <tr>\n",
       "      <th>2</th>\n",
       "      <td>2.Brazil</td>\n",
       "      <td>W</td>\n",
       "      <td>Volleyball</td>\n",
       "    </tr>\n",
       "    <tr>\n",
       "      <th>3</th>\n",
       "      <td>2.ROC</td>\n",
       "      <td>M</td>\n",
       "      <td>Volleyball</td>\n",
       "    </tr>\n",
       "    <tr>\n",
       "      <th>4</th>\n",
       "      <td>3.Argentina</td>\n",
       "      <td>M</td>\n",
       "      <td>Volleyball</td>\n",
       "    </tr>\n",
       "    <tr>\n",
       "      <th>5</th>\n",
       "      <td>3.Serbia</td>\n",
       "      <td>W</td>\n",
       "      <td>Volleyball</td>\n",
       "    </tr>\n",
       "  </tbody>\n",
       "</table>\n",
       "</div>"
      ],
      "text/plain": [
       "                      country athlete_sex  discipline\n",
       "0                    1.France           M  Volleyball\n",
       "1  1.United States of America           W  Volleyball\n",
       "2                    2.Brazil           W  Volleyball\n",
       "3                       2.ROC           M  Volleyball\n",
       "4                 3.Argentina           M  Volleyball\n",
       "5                    3.Serbia           W  Volleyball"
      ]
     },
     "execution_count": 384,
     "metadata": {},
     "output_type": "execute_result"
    }
   ],
   "source": [
    "sql = '''select distinct concat(medal_code, '.', mdf.country) country, athlete_sex, mdf.discipline\n",
    "         from medals_df mdf\n",
    "         inner join athletes_df adf on mdf.country_code = adf.country_code and mdf.athlete_name = adf.name\n",
    "         where mdf.discipline = 'Volleyball'\n",
    "         order by concat(medal_code, '.', mdf.country), athlete_sex, discipline desc\n",
    "         limit 20\n",
    "        '''\n",
    "df = pd.read_sql(sql, db)\n",
    "df"
   ]
  },
  {
   "cell_type": "markdown",
   "metadata": {},
   "source": [
    "<b><font size=5>10. Quantos atletas ganharam medalhas disputando os jogos por países diferentes do de nascimento?</font></b>"
   ]
  },
  {
   "cell_type": "code",
   "execution_count": 408,
   "metadata": {},
   "outputs": [
    {
     "data": {
      "text/html": [
       "<div>\n",
       "<style scoped>\n",
       "    .dataframe tbody tr th:only-of-type {\n",
       "        vertical-align: middle;\n",
       "    }\n",
       "\n",
       "    .dataframe tbody tr th {\n",
       "        vertical-align: top;\n",
       "    }\n",
       "\n",
       "    .dataframe thead th {\n",
       "        text-align: right;\n",
       "    }\n",
       "</style>\n",
       "<table border=\"1\" class=\"dataframe\">\n",
       "  <thead>\n",
       "    <tr style=\"text-align: right;\">\n",
       "      <th></th>\n",
       "      <th>medal_code</th>\n",
       "      <th>gender</th>\n",
       "      <th>qtde_por_medalha</th>\n",
       "      <th>qtde_total</th>\n",
       "    </tr>\n",
       "  </thead>\n",
       "  <tbody>\n",
       "    <tr>\n",
       "      <th>0</th>\n",
       "      <td>1</td>\n",
       "      <td>Female</td>\n",
       "      <td>39</td>\n",
       "      <td>115.0</td>\n",
       "    </tr>\n",
       "    <tr>\n",
       "      <th>1</th>\n",
       "      <td>2</td>\n",
       "      <td>Female</td>\n",
       "      <td>46</td>\n",
       "      <td>115.0</td>\n",
       "    </tr>\n",
       "    <tr>\n",
       "      <th>2</th>\n",
       "      <td>3</td>\n",
       "      <td>Female</td>\n",
       "      <td>30</td>\n",
       "      <td>115.0</td>\n",
       "    </tr>\n",
       "    <tr>\n",
       "      <th>3</th>\n",
       "      <td>1</td>\n",
       "      <td>Male</td>\n",
       "      <td>24</td>\n",
       "      <td>120.0</td>\n",
       "    </tr>\n",
       "    <tr>\n",
       "      <th>4</th>\n",
       "      <td>2</td>\n",
       "      <td>Male</td>\n",
       "      <td>59</td>\n",
       "      <td>120.0</td>\n",
       "    </tr>\n",
       "    <tr>\n",
       "      <th>5</th>\n",
       "      <td>3</td>\n",
       "      <td>Male</td>\n",
       "      <td>37</td>\n",
       "      <td>120.0</td>\n",
       "    </tr>\n",
       "  </tbody>\n",
       "</table>\n",
       "</div>"
      ],
      "text/plain": [
       "   medal_code  gender  qtde_por_medalha  qtde_total\n",
       "0           1  Female                39       115.0\n",
       "1           2  Female                46       115.0\n",
       "2           3  Female                30       115.0\n",
       "3           1    Male                24       120.0\n",
       "4           2    Male                59       120.0\n",
       "5           3    Male                37       120.0"
      ]
     },
     "execution_count": 408,
     "metadata": {},
     "output_type": "execute_result"
    }
   ],
   "source": [
    "sql = '''select medal_code\n",
    "        ,gender\n",
    "        ,count(*) qtde_por_medalha\n",
    "        ,sum(count(*)) over(partition by gender) qtde_total\n",
    "         from medals_df mdf\n",
    "         inner join athletes_df adf on mdf.country_code = adf.country_code and mdf.athlete_name = adf.name\n",
    "         where birth_country <> adf.country\n",
    "           and birth_country is not null\n",
    "           and adf.country is not null\n",
    "        group by medal_code, gender\n",
    "        order by gender, medal_code\n",
    "        '''\n",
    "df = pd.read_sql(sql, db)\n",
    "df"
   ]
  }
 ],
 "metadata": {
  "kernelspec": {
   "display_name": "Python 3",
   "language": "python",
   "name": "python3"
  },
  "language_info": {
   "codemirror_mode": {
    "name": "ipython",
    "version": 3
   },
   "file_extension": ".py",
   "mimetype": "text/x-python",
   "name": "python",
   "nbconvert_exporter": "python",
   "pygments_lexer": "ipython3",
   "version": "3.8.3"
  }
 },
 "nbformat": 4,
 "nbformat_minor": 4
}
